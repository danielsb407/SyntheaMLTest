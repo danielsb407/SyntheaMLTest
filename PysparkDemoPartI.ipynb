{
 "cells": [
  {
   "cell_type": "markdown",
   "metadata": {},
   "source": [
    "# Install/Import needed libraries"
   ]
  },
  {
   "cell_type": "code",
   "execution_count": 1,
   "metadata": {},
   "outputs": [
    {
     "data": {
      "application/vnd.jupyter.widget-view+json": {
       "model_id": "56cdad8dea5e4dc2b7fdd7f96ddf0d16",
       "version_major": 2,
       "version_minor": 0
      },
      "text/plain": [
       "VBox()"
      ]
     },
     "metadata": {},
     "output_type": "display_data"
    },
    {
     "name": "stdout",
     "output_type": "stream",
     "text": [
      "Starting Spark application\n"
     ]
    },
    {
     "data": {
      "text/html": [
       "<table>\n",
       "<tr><th>ID</th><th>YARN Application ID</th><th>Kind</th><th>State</th><th>Spark UI</th><th>Driver log</th><th>Current session?</th></tr><tr><td>4</td><td>application_1596119554756_0005</td><td>pyspark</td><td>idle</td><td><a target=\"_blank\" href=\"http://ip-172-31-42-160.us-east-2.compute.internal:20888/proxy/application_1596119554756_0005/\">Link</a></td><td><a target=\"_blank\" href=\"http://ip-172-31-36-116.us-east-2.compute.internal:8042/node/containerlogs/container_1596119554756_0005_01_000001/livy\">Link</a></td><td>✔</td></tr></table>"
      ],
      "text/plain": [
       "<IPython.core.display.HTML object>"
      ]
     },
     "metadata": {},
     "output_type": "display_data"
    },
    {
     "data": {
      "application/vnd.jupyter.widget-view+json": {
       "model_id": "",
       "version_major": 2,
       "version_minor": 0
      },
      "text/plain": [
       "FloatProgress(value=0.0, bar_style='info', description='Progress:', layout=Layout(height='25px', width='50%'),…"
      ]
     },
     "metadata": {},
     "output_type": "display_data"
    },
    {
     "name": "stdout",
     "output_type": "stream",
     "text": [
      "SparkSession available as 'spark'.\n"
     ]
    },
    {
     "data": {
      "application/vnd.jupyter.widget-view+json": {
       "model_id": "",
       "version_major": 2,
       "version_minor": 0
      },
      "text/plain": [
       "FloatProgress(value=0.0, bar_style='info', description='Progress:', layout=Layout(height='25px', width='50%'),…"
      ]
     },
     "metadata": {},
     "output_type": "display_data"
    },
    {
     "name": "stdout",
     "output_type": "stream",
     "text": [
      "Collecting pandas\n",
      "  Using cached https://files.pythonhosted.org/packages/94/b1/f77f49cc7cc538b247f30c2ae7e3a50f29e44f0b1af32ff4869d7de3c762/pandas-1.1.0-cp37-cp37m-manylinux1_x86_64.whl\n",
      "Requirement already satisfied: numpy>=1.15.4 in /usr/local/lib64/python3.7/site-packages (from pandas)\n",
      "Requirement already satisfied: pytz>=2017.2 in /usr/local/lib/python3.7/site-packages (from pandas)\n",
      "Collecting python-dateutil>=2.7.3 (from pandas)\n",
      "  Using cached https://files.pythonhosted.org/packages/d4/70/d60450c3dd48ef87586924207ae8907090de0b306af2bce5d134d78615cb/python_dateutil-2.8.1-py2.py3-none-any.whl\n",
      "Requirement already satisfied: six>=1.5 in /usr/local/lib/python3.7/site-packages (from python-dateutil>=2.7.3->pandas)\n",
      "Installing collected packages: python-dateutil, pandas\n",
      "Successfully installed pandas-1.1.0 python-dateutil-2.8.1\n",
      "\n",
      "Collecting Matplotlib\n",
      "  Using cached https://files.pythonhosted.org/packages/1c/15/3fea1bfb7e5b77b7cca9c6010a9cabc58ea125385345ecb6f5832eb8b49a/matplotlib-3.3.0-1-cp37-cp37m-manylinux1_x86_64.whl\n",
      "Requirement already satisfied: numpy>=1.15 in /usr/local/lib64/python3.7/site-packages (from Matplotlib)\n",
      "Requirement already satisfied: python-dateutil>=2.1 in /mnt/tmp/1596126222407-0/lib/python3.7/site-packages (from Matplotlib)\n",
      "Collecting pyparsing!=2.0.4,!=2.1.2,!=2.1.6,>=2.0.3 (from Matplotlib)\n",
      "  Using cached https://files.pythonhosted.org/packages/8a/bb/488841f56197b13700afd5658fc279a2025a39e22449b7cf29864669b15d/pyparsing-2.4.7-py2.py3-none-any.whl\n",
      "Collecting pillow>=6.2.0 (from Matplotlib)\n",
      "  Using cached https://files.pythonhosted.org/packages/e8/f2/6722dd0c22e3a143ac792ccb2424924ac72af4adea756b1165b4cad50da7/Pillow-7.2.0-cp37-cp37m-manylinux1_x86_64.whl\n",
      "Collecting cycler>=0.10 (from Matplotlib)\n",
      "  Using cached https://files.pythonhosted.org/packages/f7/d2/e07d3ebb2bd7af696440ce7e754c59dd546ffe1bbe732c8ab68b9c834e61/cycler-0.10.0-py2.py3-none-any.whl\n",
      "Collecting kiwisolver>=1.0.1 (from Matplotlib)\n",
      "  Using cached https://files.pythonhosted.org/packages/31/b9/6202dcae729998a0ade30e80ac00f616542ef445b088ec970d407dfd41c0/kiwisolver-1.2.0-cp37-cp37m-manylinux1_x86_64.whl\n",
      "Requirement already satisfied: six>=1.5 in /usr/local/lib/python3.7/site-packages (from python-dateutil>=2.1->Matplotlib)\n",
      "Installing collected packages: pyparsing, pillow, cycler, kiwisolver, Matplotlib\n",
      "Successfully installed Matplotlib-3.3.0 cycler-0.10.0 kiwisolver-1.2.0 pillow-7.2.0 pyparsing-2.4.7\n",
      "\n",
      "Collecting seaborn\n",
      "  Using cached https://files.pythonhosted.org/packages/c7/e6/54aaaafd0b87f51dfba92ba73da94151aa3bc179e5fe88fc5dfb3038e860/seaborn-0.10.1-py3-none-any.whl\n",
      "Requirement already satisfied: pandas>=0.22.0 in /mnt/tmp/1596126222407-0/lib/python3.7/site-packages (from seaborn)\n",
      "Requirement already satisfied: numpy>=1.13.3 in /usr/local/lib64/python3.7/site-packages (from seaborn)\n",
      "Collecting scipy>=1.0.1 (from seaborn)\n",
      "  Using cached https://files.pythonhosted.org/packages/65/f9/f7a7e5009711579c72da2725174825e5056741bf4001815d097eef1b2e17/scipy-1.5.2-cp37-cp37m-manylinux1_x86_64.whl\n",
      "Requirement already satisfied: matplotlib>=2.1.2 in /mnt/tmp/1596126222407-0/lib/python3.7/site-packages (from seaborn)\n",
      "Requirement already satisfied: pytz>=2017.2 in /usr/local/lib/python3.7/site-packages (from pandas>=0.22.0->seaborn)\n",
      "Requirement already satisfied: python-dateutil>=2.7.3 in /mnt/tmp/1596126222407-0/lib/python3.7/site-packages (from pandas>=0.22.0->seaborn)\n",
      "Requirement already satisfied: pyparsing!=2.0.4,!=2.1.2,!=2.1.6,>=2.0.3 in /mnt/tmp/1596126222407-0/lib/python3.7/site-packages (from matplotlib>=2.1.2->seaborn)\n",
      "Requirement already satisfied: pillow>=6.2.0 in /mnt/tmp/1596126222407-0/lib/python3.7/site-packages (from matplotlib>=2.1.2->seaborn)\n",
      "Requirement already satisfied: cycler>=0.10 in /mnt/tmp/1596126222407-0/lib/python3.7/site-packages (from matplotlib>=2.1.2->seaborn)\n",
      "Requirement already satisfied: kiwisolver>=1.0.1 in /mnt/tmp/1596126222407-0/lib/python3.7/site-packages (from matplotlib>=2.1.2->seaborn)\n",
      "Requirement already satisfied: six>=1.5 in /usr/local/lib/python3.7/site-packages (from python-dateutil>=2.7.3->pandas>=0.22.0->seaborn)\n",
      "Installing collected packages: scipy, seaborn\n",
      "Successfully installed scipy-1.5.2 seaborn-0.10.1\n",
      "\n",
      "Collecting tqdm\n",
      "  Using cached https://files.pythonhosted.org/packages/af/88/7b0ea5fa8192d1733dea459a9e3059afc87819cb4072c43263f2ec7ab768/tqdm-4.48.0-py2.py3-none-any.whl\n",
      "Installing collected packages: tqdm\n",
      "Successfully installed tqdm-4.48.0\n",
      "\n",
      "Collecting s3fs\n",
      "  Using cached https://files.pythonhosted.org/packages/b8/e4/b8fc59248399d2482b39340ec9be4bb2493846ac23641b43115a7e5cd675/s3fs-0.4.2-py3-none-any.whl\n",
      "Collecting fsspec>=0.6.0 (from s3fs)\n",
      "  Using cached https://files.pythonhosted.org/packages/0f/31/f27a81686b2f1b2f6776bd5db10efc7d88f28a50e8888f55409ef6501a50/fsspec-0.7.4-py3-none-any.whl\n",
      "Collecting botocore>=1.12.91 (from s3fs)\n",
      "  Using cached https://files.pythonhosted.org/packages/ef/09/ad453cb97d14ba9434a863dbd12243e891fb13e22259fa9d30a904093fab/botocore-1.17.31-py2.py3-none-any.whl\n",
      "Collecting urllib3<1.26,>=1.20; python_version != \"3.4\" (from botocore>=1.12.91->s3fs)\n",
      "  Using cached https://files.pythonhosted.org/packages/9f/f0/a391d1463ebb1b233795cabfc0ef38d3db4442339de68f847026199e69d7/urllib3-1.25.10-py2.py3-none-any.whl\n",
      "Requirement already satisfied: python-dateutil<3.0.0,>=2.1 in /mnt/tmp/1596126222407-0/lib/python3.7/site-packages (from botocore>=1.12.91->s3fs)\n",
      "Requirement already satisfied: jmespath<1.0.0,>=0.7.1 in /usr/local/lib/python3.7/site-packages (from botocore>=1.12.91->s3fs)\n",
      "Collecting docutils<0.16,>=0.10 (from botocore>=1.12.91->s3fs)\n",
      "  Using cached https://files.pythonhosted.org/packages/22/cd/a6aa959dca619918ccb55023b4cb151949c64d4d5d55b3f4ffd7eee0c6e8/docutils-0.15.2-py3-none-any.whl\n",
      "Requirement already satisfied: six>=1.5 in /usr/local/lib/python3.7/site-packages (from python-dateutil<3.0.0,>=2.1->botocore>=1.12.91->s3fs)\n",
      "Installing collected packages: fsspec, urllib3, docutils, botocore, s3fs\n",
      "Successfully installed botocore-1.17.31 docutils-0.15.2 fsspec-0.7.4 s3fs-0.4.2 urllib3-1.25.10\n",
      "\n",
      "Collecting scikit-learn\n",
      "  Using cached https://files.pythonhosted.org/packages/b8/7e/74e707b66490d4eb05f702966ad0990881127acecf9d5cdcef3c95ec6c16/scikit_learn-0.23.1-cp37-cp37m-manylinux1_x86_64.whl\n",
      "Requirement already satisfied: scipy>=0.19.1 in /mnt/tmp/1596126222407-0/lib/python3.7/site-packages (from scikit-learn)\n",
      "Requirement already satisfied: numpy>=1.13.3 in /usr/local/lib64/python3.7/site-packages (from scikit-learn)\n",
      "Collecting joblib>=0.11 (from scikit-learn)\n",
      "  Using cached https://files.pythonhosted.org/packages/51/dd/0e015051b4a27ec5a58b02ab774059f3289a94b0906f880a3f9507e74f38/joblib-0.16.0-py3-none-any.whl\n",
      "Collecting threadpoolctl>=2.0.0 (from scikit-learn)\n",
      "  Using cached https://files.pythonhosted.org/packages/f7/12/ec3f2e203afa394a149911729357aa48affc59c20e2c1c8297a60f33f133/threadpoolctl-2.1.0-py3-none-any.whl\n",
      "Installing collected packages: joblib, threadpoolctl, scikit-learn\n",
      "Successfully installed joblib-0.16.0 scikit-learn-0.23.1 threadpoolctl-2.1.0"
     ]
    }
   ],
   "source": [
    "sc.install_pypi_package(\"pandas\");\n",
    "sc.install_pypi_package(\"Matplotlib\");\n",
    "sc.install_pypi_package(\"seaborn\");\n",
    "sc.install_pypi_package(\"tqdm\");\n",
    "sc.install_pypi_package(\"s3fs\");\n",
    "sc.install_pypi_package(\"scikit-learn\");"
   ]
  },
  {
   "cell_type": "code",
   "execution_count": 2,
   "metadata": {},
   "outputs": [
    {
     "data": {
      "application/vnd.jupyter.widget-view+json": {
       "model_id": "30f09e3b3c8d42e29e164c3cadf6cd1c",
       "version_major": 2,
       "version_minor": 0
      },
      "text/plain": [
       "VBox()"
      ]
     },
     "metadata": {},
     "output_type": "display_data"
    },
    {
     "data": {
      "application/vnd.jupyter.widget-view+json": {
       "model_id": "",
       "version_major": 2,
       "version_minor": 0
      },
      "text/plain": [
       "FloatProgress(value=0.0, bar_style='info', description='Progress:', layout=Layout(height='25px', width='50%'),…"
      ]
     },
     "metadata": {},
     "output_type": "display_data"
    }
   ],
   "source": [
    "import pandas as pd\n",
    "import sys\n",
    "import numpy as np\n",
    "import matplotlib.pyplot as plt\n",
    "import seaborn as sns\n",
    "import tqdm\n",
    "import s3fs\n",
    "from sklearn import preprocessing\n",
    "from sklearn.decomposition import PCA"
   ]
  },
  {
   "cell_type": "code",
   "execution_count": 3,
   "metadata": {},
   "outputs": [
    {
     "data": {
      "application/vnd.jupyter.widget-view+json": {
       "model_id": "39c51b57e338407998bbef51cef276fe",
       "version_major": 2,
       "version_minor": 0
      },
      "text/plain": [
       "VBox()"
      ]
     },
     "metadata": {},
     "output_type": "display_data"
    },
    {
     "data": {
      "application/vnd.jupyter.widget-view+json": {
       "model_id": "",
       "version_major": 2,
       "version_minor": 0
      },
      "text/plain": [
       "FloatProgress(value=0.0, bar_style='info', description='Progress:', layout=Layout(height='25px', width='50%'),…"
      ]
     },
     "metadata": {},
     "output_type": "display_data"
    },
    {
     "name": "stdout",
     "output_type": "stream",
     "text": [
      "+--------------------+------+------+-----+-----------+------+-------------------+-------+--------+---------------+\n",
      "|             patient|height|weight|  BMI|cholesterol|sodium|         birth_date|marital|    race|      ethnicity|\n",
      "+--------------------+------+------+-----+-----------+------+-------------------+-------+--------+---------------+\n",
      "|00eec485-f89d-472...| 172.3| 94.04|31.68|      207.0| 140.0|1959-06-24 00:00:00|      M|hispanic|   puerto_rican|\n",
      "|017299f2-de8f-43a...|177.38|135.75|43.15|      161.0| 139.0|1963-12-03 00:00:00|      S|   white|        italian|\n",
      "|018dd53e-4b90-41c...|163.33|136.74|51.26|      162.0| 143.0|1955-11-19 00:00:00|      M|   white|          irish|\n",
      "|0190ce14-8897-495...| 161.1| 72.92| 28.1|      196.0| 137.0|1939-03-17 00:00:00|      M|   white|          irish|\n",
      "|01e7a88d-34ac-494...|173.35|105.97|35.27|      169.0| 143.0|1958-03-09 00:00:00|      S|   asian|        chinese|\n",
      "|01f649ca-232e-4c1...|151.11|102.05|44.69|      199.0| 140.0|1965-10-17 00:00:00|      M|   white|french_canadian|\n",
      "|0216c768-a4c0-46a...|169.24| 96.32|33.63|      197.0| 140.0|1955-07-14 00:00:00|      M|   white|          irish|\n",
      "|023230b8-01ca-4d3...|157.84| 92.49|37.13|      179.0| 142.0|1955-01-31 00:00:00|      S|   white|          irish|\n",
      "|02357156-a39f-45f...|185.33|109.37|31.84|      173.0| 143.0|1962-11-21 00:00:00|      M|   white|        russian|\n",
      "|0259aa6f-d531-43f...|163.33|100.15|37.54|      233.0| 140.0|1970-10-05 00:00:00|      S|   white|          irish|\n",
      "|029f2ed6-60a0-4d4...|170.46|111.64|38.42|      171.0| 144.0|1948-08-03 00:00:00|      S|   white|          irish|\n",
      "|02b97303-7790-40e...|170.45|112.29|38.65|      199.0| 144.0|1958-09-27 00:00:00|      M|   white|          irish|\n",
      "|030c04eb-d2db-44b...|166.01|  92.5|33.56|      178.0| 143.0|1961-10-30 00:00:00|      S|   white|        swedish|\n",
      "|0319573e-be76-493...|175.46| 92.34|29.99|      160.0| 141.0|1952-07-28 00:00:00|      M|   white|         german|\n",
      "|032a3bbb-f3f9-49a...|173.81|108.56|35.93|      172.0| 139.0|1949-09-01 00:00:00|      S|   black|        african|\n",
      "|032b06a5-c22c-496...|162.92|102.96|38.79|      200.0| 143.0|1954-02-05 00:00:00|      M|   white|        italian|\n",
      "|033314e0-a85b-4a2...|166.72| 76.58|27.55|      182.0| 139.0|1982-01-29 00:00:00|      M|   white|          irish|\n",
      "|03644540-9e63-4cb...|181.81|122.25|36.98|      169.0| 142.0|1962-04-13 00:00:00|      M|   white|        russian|\n",
      "|03745294-8bba-414...|170.52| 96.17|33.08|      185.0| 143.0|1950-06-11 00:00:00|      M|   white|         german|\n",
      "|03a2a827-8305-4d4...|179.26|107.07|33.32|      173.0| 144.0|1974-05-03 00:00:00|      M|hispanic|   puerto_rican|\n",
      "+--------------------+------+------+-----+-----------+------+-------------------+-------+--------+---------------+\n",
      "only showing top 20 rows"
     ]
    }
   ],
   "source": [
    "bucket_file = \"s3://ms-syntheamass-1m-mldata/syntheamassCSV/patient_info2/patient_info_and_observations2.csv\"\n",
    "\n",
    "sdf = spark.read.format(\"csv\").option(\"inferSchema\", True).option(\"header\", False).load(bucket_file)\n",
    "sdf.createOrReplaceTempView(\"data2\")\n",
    "sdf = spark.sql(\"\"\"\n",
    "select _c0 as patient,\n",
    "_c1 as height, _c2 as weight, _c3 as BMI, _c4 as cholesterol,\n",
    "_c5 as sodium, _c6 as birth_date, _c7 as marital, _c8 as race, \n",
    "_c9 as ethnicity\n",
    "from data2\"\"\")\n",
    "sdf.show()"
   ]
  },
  {
   "cell_type": "markdown",
   "metadata": {},
   "source": [
    "# Prep for Machine Learning"
   ]
  },
  {
   "cell_type": "markdown",
   "metadata": {},
   "source": [
    "## Indexing Strings"
   ]
  },
  {
   "cell_type": "code",
   "execution_count": 4,
   "metadata": {},
   "outputs": [
    {
     "data": {
      "application/vnd.jupyter.widget-view+json": {
       "model_id": "d80cfebe66614386807d9fd5b699e805",
       "version_major": 2,
       "version_minor": 0
      },
      "text/plain": [
       "VBox()"
      ]
     },
     "metadata": {},
     "output_type": "display_data"
    },
    {
     "data": {
      "application/vnd.jupyter.widget-view+json": {
       "model_id": "",
       "version_major": 2,
       "version_minor": 0
      },
      "text/plain": [
       "FloatProgress(value=0.0, bar_style='info', description='Progress:', layout=Layout(height='25px', width='50%'),…"
      ]
     },
     "metadata": {},
     "output_type": "display_data"
    },
    {
     "name": "stdout",
     "output_type": "stream",
     "text": [
      "+-------+------+------+-----+------+-------------------+---------------+-----------------+------------+\n",
      "|     ID|height|weight|  BMI|sodium|         birth_date|indexed_marital|indexed_ethnicity|indexed_race|\n",
      "+-------+------+------+-----+------+-------------------+---------------+-----------------+------------+\n",
      "|12200.0| 172.3| 94.04|31.68| 140.0|1959-06-24 00:00:00|            0.0|              3.0|         1.0|\n",
      "|28107.0|177.38|135.75|43.15| 139.0|1963-12-03 00:00:00|            1.0|              1.0|         0.0|\n",
      "| 4998.0|163.33|136.74|51.26| 143.0|1955-11-19 00:00:00|            0.0|              0.0|         0.0|\n",
      "|23024.0| 161.1| 72.92| 28.1| 137.0|1939-03-17 00:00:00|            0.0|              0.0|         0.0|\n",
      "|10498.0|173.35|105.97|35.27| 143.0|1958-03-09 00:00:00|            1.0|              6.0|         3.0|\n",
      "|13838.0|151.11|102.05|44.69| 140.0|1965-10-17 00:00:00|            0.0|              9.0|         0.0|\n",
      "| 4376.0|169.24| 96.32|33.63| 140.0|1955-07-14 00:00:00|            0.0|              0.0|         0.0|\n",
      "|24175.0|157.84| 92.49|37.13| 142.0|1955-01-31 00:00:00|            1.0|              0.0|         0.0|\n",
      "|21366.0|185.33|109.37|31.84| 143.0|1962-11-21 00:00:00|            0.0|             18.0|         0.0|\n",
      "|16949.0|163.33|100.15|37.54| 140.0|1970-10-05 00:00:00|            1.0|              0.0|         0.0|\n",
      "|29260.0|170.46|111.64|38.42| 144.0|1948-08-03 00:00:00|            1.0|              0.0|         0.0|\n",
      "| 9754.0|170.45|112.29|38.65| 144.0|1958-09-27 00:00:00|            0.0|              0.0|         0.0|\n",
      "|30014.0|166.01|  92.5|33.56| 143.0|1961-10-30 00:00:00|            1.0|             14.0|         0.0|\n",
      "|29342.0|175.46| 92.34|29.99| 141.0|1952-07-28 00:00:00|            0.0|              5.0|         0.0|\n",
      "|15659.0|173.81|108.56|35.93| 139.0|1949-09-01 00:00:00|            1.0|             12.0|         2.0|\n",
      "|22918.0|162.92|102.96|38.79| 143.0|1954-02-05 00:00:00|            0.0|              1.0|         0.0|\n",
      "|17692.0|166.72| 76.58|27.55| 139.0|1982-01-29 00:00:00|            0.0|              0.0|         0.0|\n",
      "|17680.0|181.81|122.25|36.98| 142.0|1962-04-13 00:00:00|            0.0|             18.0|         0.0|\n",
      "|22339.0|170.52| 96.17|33.08| 143.0|1950-06-11 00:00:00|            0.0|              5.0|         0.0|\n",
      "| 4306.0|179.26|107.07|33.32| 144.0|1974-05-03 00:00:00|            0.0|              3.0|         1.0|\n",
      "+-------+------+------+-----+------+-------------------+---------------+-----------------+------------+\n",
      "only showing top 20 rows"
     ]
    }
   ],
   "source": [
    "from pyspark.ml.feature import StringIndexer\n",
    "sdf = sdf.dropna()\n",
    "\n",
    "indexer = StringIndexer(inputCol=\"patient\", outputCol=\"ID\")\n",
    "indexed = indexer.fit(sdf).transform(sdf)\n",
    "\n",
    "indexer = StringIndexer(inputCol=\"marital\", outputCol=\"indexed_marital\")\n",
    "indexed = indexer.fit(indexed).transform(indexed)\n",
    "\n",
    "indexer = StringIndexer(inputCol=\"ethnicity\", outputCol=\"indexed_ethnicity\")\n",
    "indexed = indexer.fit(indexed).transform(indexed)\n",
    "\n",
    "indexer = StringIndexer(inputCol=\"race\", outputCol=\"indexed_race\")\n",
    "indexed = indexer.fit(indexed).transform(indexed)\n",
    "\n",
    "indexed.createOrReplaceTempView(\"indexed\")\n",
    "\n",
    "indexed = spark.sql(\"\"\"\n",
    "select ID, height, weight, BMI, sodium, birth_date, indexed_marital, indexed_ethnicity, indexed_race\n",
    "from indexed\n",
    "\"\"\")\n",
    "indexed.show()"
   ]
  },
  {
   "cell_type": "markdown",
   "metadata": {},
   "source": [
    "## Convert Birthday to Age"
   ]
  },
  {
   "cell_type": "code",
   "execution_count": 5,
   "metadata": {},
   "outputs": [
    {
     "data": {
      "application/vnd.jupyter.widget-view+json": {
       "model_id": "2e5e45cc21fa4c569561f92bf6930d62",
       "version_major": 2,
       "version_minor": 0
      },
      "text/plain": [
       "VBox()"
      ]
     },
     "metadata": {},
     "output_type": "display_data"
    },
    {
     "data": {
      "application/vnd.jupyter.widget-view+json": {
       "model_id": "",
       "version_major": 2,
       "version_minor": 0
      },
      "text/plain": [
       "FloatProgress(value=0.0, bar_style='info', description='Progress:', layout=Layout(height='25px', width='50%'),…"
      ]
     },
     "metadata": {},
     "output_type": "display_data"
    },
    {
     "name": "stdout",
     "output_type": "stream",
     "text": [
      "+-------+------+------+-----+------+---------------+-----------------+------------+---+\n",
      "|     ID|height|weight|  BMI|sodium|indexed_marital|indexed_ethnicity|indexed_race|age|\n",
      "+-------+------+------+-----+------+---------------+-----------------+------------+---+\n",
      "|12200.0| 172.3| 94.04|31.68| 140.0|            0.0|              3.0|         1.0| 61|\n",
      "|28107.0|177.38|135.75|43.15| 139.0|            1.0|              1.0|         0.0| 57|\n",
      "| 4998.0|163.33|136.74|51.26| 143.0|            0.0|              0.0|         0.0| 65|\n",
      "|23024.0| 161.1| 72.92| 28.1| 137.0|            0.0|              0.0|         0.0| 81|\n",
      "|10498.0|173.35|105.97|35.27| 143.0|            1.0|              6.0|         3.0| 62|\n",
      "|13838.0|151.11|102.05|44.69| 140.0|            0.0|              9.0|         0.0| 55|\n",
      "| 4376.0|169.24| 96.32|33.63| 140.0|            0.0|              0.0|         0.0| 65|\n",
      "|24175.0|157.84| 92.49|37.13| 142.0|            1.0|              0.0|         0.0| 65|\n",
      "|21366.0|185.33|109.37|31.84| 143.0|            0.0|             18.0|         0.0| 58|\n",
      "|16949.0|163.33|100.15|37.54| 140.0|            1.0|              0.0|         0.0| 50|\n",
      "|29260.0|170.46|111.64|38.42| 144.0|            1.0|              0.0|         0.0| 72|\n",
      "| 9754.0|170.45|112.29|38.65| 144.0|            0.0|              0.0|         0.0| 62|\n",
      "|30014.0|166.01|  92.5|33.56| 143.0|            1.0|             14.0|         0.0| 59|\n",
      "|29342.0|175.46| 92.34|29.99| 141.0|            0.0|              5.0|         0.0| 68|\n",
      "|15659.0|173.81|108.56|35.93| 139.0|            1.0|             12.0|         2.0| 71|\n",
      "|22918.0|162.92|102.96|38.79| 143.0|            0.0|              1.0|         0.0| 66|\n",
      "|17692.0|166.72| 76.58|27.55| 139.0|            0.0|              0.0|         0.0| 38|\n",
      "|17680.0|181.81|122.25|36.98| 142.0|            0.0|             18.0|         0.0| 58|\n",
      "|22339.0|170.52| 96.17|33.08| 143.0|            0.0|              5.0|         0.0| 70|\n",
      "| 4306.0|179.26|107.07|33.32| 144.0|            0.0|              3.0|         1.0| 46|\n",
      "+-------+------+------+-----+------+---------------+-----------------+------------+---+\n",
      "only showing top 20 rows"
     ]
    }
   ],
   "source": [
    "from datetime import datetime\n",
    "from pyspark.sql.functions import udf\n",
    "from pyspark.sql.types import IntegerType\n",
    "\n",
    "today = datetime.today()\n",
    "\n",
    "convert_to_age = udf(lambda birth_date: today.year - birth_date.year, IntegerType())\n",
    "\n",
    "indexed = indexed.withColumn(\"age\", convert_to_age(indexed.birth_date))\n",
    "\n",
    "indexed = indexed.drop(\"birth_date\")\n",
    "indexed.show()"
   ]
  },
  {
   "cell_type": "markdown",
   "metadata": {},
   "source": [
    "## Creating Feature Vectors"
   ]
  },
  {
   "cell_type": "code",
   "execution_count": 6,
   "metadata": {},
   "outputs": [
    {
     "data": {
      "application/vnd.jupyter.widget-view+json": {
       "model_id": "f645d9f0441b4b3cb50f9b376b03e17e",
       "version_major": 2,
       "version_minor": 0
      },
      "text/plain": [
       "VBox()"
      ]
     },
     "metadata": {},
     "output_type": "display_data"
    },
    {
     "data": {
      "application/vnd.jupyter.widget-view+json": {
       "model_id": "",
       "version_major": 2,
       "version_minor": 0
      },
      "text/plain": [
       "FloatProgress(value=0.0, bar_style='info', description='Progress:', layout=Layout(height='25px', width='50%'),…"
      ]
     },
     "metadata": {},
     "output_type": "display_data"
    },
    {
     "name": "stdout",
     "output_type": "stream",
     "text": [
      "+---------------------------------------------+\n",
      "|features                                     |\n",
      "+---------------------------------------------+\n",
      "|[172.3,94.04,31.68,140.0,0.0,3.0,1.0,61.0]   |\n",
      "|[177.38,135.75,43.15,139.0,1.0,1.0,0.0,57.0] |\n",
      "|[163.33,136.74,51.26,143.0,0.0,0.0,0.0,65.0] |\n",
      "|[161.1,72.92,28.1,137.0,0.0,0.0,0.0,81.0]    |\n",
      "|[173.35,105.97,35.27,143.0,1.0,6.0,3.0,62.0] |\n",
      "|[151.11,102.05,44.69,140.0,0.0,9.0,0.0,55.0] |\n",
      "|[169.24,96.32,33.63,140.0,0.0,0.0,0.0,65.0]  |\n",
      "|[157.84,92.49,37.13,142.0,1.0,0.0,0.0,65.0]  |\n",
      "|[185.33,109.37,31.84,143.0,0.0,18.0,0.0,58.0]|\n",
      "|[163.33,100.15,37.54,140.0,1.0,0.0,0.0,50.0] |\n",
      "|[170.46,111.64,38.42,144.0,1.0,0.0,0.0,72.0] |\n",
      "|[170.45,112.29,38.65,144.0,0.0,0.0,0.0,62.0] |\n",
      "|[166.01,92.5,33.56,143.0,1.0,14.0,0.0,59.0]  |\n",
      "|[175.46,92.34,29.99,141.0,0.0,5.0,0.0,68.0]  |\n",
      "|[173.81,108.56,35.93,139.0,1.0,12.0,2.0,71.0]|\n",
      "|[162.92,102.96,38.79,143.0,0.0,1.0,0.0,66.0] |\n",
      "|[166.72,76.58,27.55,139.0,0.0,0.0,0.0,38.0]  |\n",
      "|[181.81,122.25,36.98,142.0,0.0,18.0,0.0,58.0]|\n",
      "|[170.52,96.17,33.08,143.0,0.0,5.0,0.0,70.0]  |\n",
      "|[179.26,107.07,33.32,144.0,0.0,3.0,1.0,46.0] |\n",
      "+---------------------------------------------+\n",
      "only showing top 20 rows"
     ]
    }
   ],
   "source": [
    "from pyspark.ml.feature import VectorAssembler\n",
    "features = [feature for feature in indexed.columns if feature != \"ID\"]\n",
    "assembler = VectorAssembler(inputCols=features, outputCol = \"features\")\n",
    "raw_data = assembler.transform(indexed)\n",
    "raw_data.select(\"features\").show(truncate = False)"
   ]
  },
  {
   "cell_type": "markdown",
   "metadata": {},
   "source": [
    "### Scaling Feature Vectors"
   ]
  },
  {
   "cell_type": "code",
   "execution_count": 7,
   "metadata": {},
   "outputs": [
    {
     "data": {
      "application/vnd.jupyter.widget-view+json": {
       "model_id": "64295af6a31d4f309e20917d5d658055",
       "version_major": 2,
       "version_minor": 0
      },
      "text/plain": [
       "VBox()"
      ]
     },
     "metadata": {},
     "output_type": "display_data"
    },
    {
     "data": {
      "application/vnd.jupyter.widget-view+json": {
       "model_id": "",
       "version_major": 2,
       "version_minor": 0
      },
      "text/plain": [
       "FloatProgress(value=0.0, bar_style='info', description='Progress:', layout=Layout(height='25px', width='50%'),…"
      ]
     },
     "metadata": {},
     "output_type": "display_data"
    }
   ],
   "source": [
    "from pyspark.ml.feature import StandardScaler\n",
    "standardScaler=StandardScaler().setInputCol(\"features\").setOutputCol(\"scaled_features\")\n",
    "raw_data=standardScaler.fit(raw_data).transform(raw_data)"
   ]
  },
  {
   "cell_type": "code",
   "execution_count": 8,
   "metadata": {},
   "outputs": [
    {
     "data": {
      "application/vnd.jupyter.widget-view+json": {
       "model_id": "9a46fdd1f3b64c33bd218a71c0223bb6",
       "version_major": 2,
       "version_minor": 0
      },
      "text/plain": [
       "VBox()"
      ]
     },
     "metadata": {},
     "output_type": "display_data"
    },
    {
     "data": {
      "application/vnd.jupyter.widget-view+json": {
       "model_id": "",
       "version_major": 2,
       "version_minor": 0
      },
      "text/plain": [
       "FloatProgress(value=0.0, bar_style='info', description='Progress:', layout=Layout(height='25px', width='50%'),…"
      ]
     },
     "metadata": {},
     "output_type": "display_data"
    },
    {
     "name": "stdout",
     "output_type": "stream",
     "text": [
      "+--------------------+\n",
      "|     scaled_features|\n",
      "+--------------------+\n",
      "|[18.8109771455253...|\n",
      "|[19.3655898205065...|\n",
      "|[17.8316709064344...|\n",
      "|[17.5882090432044...|\n",
      "|[18.9256116551179...|\n",
      "+--------------------+\n",
      "only showing top 5 rows"
     ]
    }
   ],
   "source": [
    "raw_data.select(\"scaled_features\").show(5,truncate=True)"
   ]
  }
 ],
 "metadata": {
  "kernelspec": {
   "display_name": "PySpark",
   "language": "",
   "name": "pysparkkernel"
  },
  "language_info": {
   "codemirror_mode": {
    "name": "python",
    "version": 2
   },
   "mimetype": "text/x-python",
   "name": "pyspark",
   "pygments_lexer": "python2"
  }
 },
 "nbformat": 4,
 "nbformat_minor": 4
}
