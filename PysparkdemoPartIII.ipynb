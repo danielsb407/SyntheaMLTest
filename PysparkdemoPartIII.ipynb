{
 "cells": [
  {
   "cell_type": "markdown",
   "metadata": {},
   "source": [
    "# PCA Visualization"
   ]
  },
  {
   "cell_type": "markdown",
   "metadata": {},
   "source": [
    "## Convert Info & Cluster Labels to Pandas"
   ]
  },
  {
   "cell_type": "code",
   "execution_count": null,
   "metadata": {},
   "outputs": [],
   "source": [
    "sdff=indexed.drop(\"ID\")\n",
    "\n",
    "dfp=sdff.toPandas()\n",
    "dfp.head()\n",
    "\n",
    "kclust=clusters.toPandas()\n",
    "hclust=cm.toPandas()"
   ]
  },
  {
   "cell_type": "markdown",
   "metadata": {},
   "source": [
    "## Set Up PCA & Transform Info"
   ]
  },
  {
   "cell_type": "code",
   "execution_count": null,
   "metadata": {},
   "outputs": [],
   "source": [
    "pca=PCA(n_components=3)\n",
    "principalComponents=pca.fit_transform(dfp)\n",
    "principalDF = pd.DataFrame(data=principalComponents, columns =['Principal Component 1', 'Principal Component 2','Principal Component 3'])\n",
    "principalDF.head()"
   ]
  },
  {
   "cell_type": "markdown",
   "metadata": {},
   "source": [
    "## K-Means"
   ]
  },
  {
   "cell_type": "code",
   "execution_count": null,
   "metadata": {},
   "outputs": [],
   "source": [
    "finalDFK=pd.concat([principalDF, kclust],axis=1)\n",
    "#finalDFK.head()"
   ]
  },
  {
   "cell_type": "code",
   "execution_count": null,
   "metadata": {},
   "outputs": [],
   "source": [
    "#%matplot plt          #Run this cell once without %matplot, then once again with it\n",
    "fig = plt.figure(figsize = (15,15))\n",
    "ax = fig.add_subplot(111,projection='3d') \n",
    "ax.set_xlabel('Principal Component 1', fontsize = 15)\n",
    "ax.set_ylabel('Principal Component 2', fontsize = 15)\n",
    "ax.set_zlabel('Principal Component 3', fontsize = 15)\n",
    "ax.set_title('K-Means 3 Component PCA', fontsize = 20)\n",
    "\n",
    "\n",
    "targets = [0,1,2,3,4]\n",
    "colors = ['r','g','b','y','m']\n",
    "for target, color in zip(targets,colors):\n",
    "    indicesToKeep = finalDFK['prediction'] == target\n",
    "    ax.scatter(finalDFK.loc[indicesToKeep, 'Principal Component 1']\n",
    "               , finalDFK.loc[indicesToKeep, 'Principal Component 2']\n",
    "               , finalDFK.loc[indicesToKeep, 'Principal Component 3']\n",
    "               , c = color\n",
    "               , s = 50)\n",
    "ax.legend(targets)\n",
    "ax.grid()"
   ]
  },
  {
   "cell_type": "markdown",
   "metadata": {},
   "source": [
    "## Hierarchical"
   ]
  },
  {
   "cell_type": "code",
   "execution_count": null,
   "metadata": {},
   "outputs": [],
   "source": [
    "finalDFH=pd.concat([principalDF, hclust],axis=1)\n",
    "#finalDFH.head()"
   ]
  },
  {
   "cell_type": "code",
   "execution_count": null,
   "metadata": {},
   "outputs": [],
   "source": [
    "#%matplot plt              #Run this cell once without %matplot, then once again with it\n",
    "fig = plt.figure(figsize = (15,15))\n",
    "ax = fig.add_subplot(111,projection='3d') \n",
    "ax.set_xlabel('Principal Component 1', fontsize = 15)\n",
    "ax.set_ylabel('Principal Component 2', fontsize = 15)\n",
    "ax.set_zlabel('Principal Component 3', fontsize = 15)\n",
    "ax.set_title('Hierarchical 3 Component PCA', fontsize = 20)\n",
    "\n",
    "\n",
    "targets = [0,1,2,3,4]\n",
    "colors = ['r','g','b','y','m']\n",
    "for target, color in zip(targets,colors):\n",
    "    indicesToKeep = finalDFH['prediction'] == target\n",
    "    ax.scatter(finalDFH.loc[indicesToKeep, 'Principal Component 1']\n",
    "               , finalDFH.loc[indicesToKeep, 'Principal Component 2']\n",
    "               , finalDFH.loc[indicesToKeep, 'Principal Component 3']\n",
    "               , c = color\n",
    "               , s = 50)\n",
    "ax.legend(targets)\n",
    "ax.grid()"
   ]
  }
 ],
 "metadata": {
  "kernelspec": {
   "display_name": "PySpark",
   "language": "",
   "name": "pysparkkernel"
  },
  "language_info": {
   "codemirror_mode": {
    "name": "python",
    "version": 2
   },
   "mimetype": "text/x-python",
   "name": "pyspark",
   "pygments_lexer": "python2"
  }
 },
 "nbformat": 4,
 "nbformat_minor": 4
}
