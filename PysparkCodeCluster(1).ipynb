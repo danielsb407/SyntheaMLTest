{
 "cells": [
  {
   "cell_type": "code",
   "execution_count": 1,
   "metadata": {
    "scrolled": true
   },
   "outputs": [
    {
     "data": {
      "application/vnd.jupyter.widget-view+json": {
       "model_id": "e9660c1bf5184c2e9994eeaa74e6f8e9",
       "version_major": 2,
       "version_minor": 0
      },
      "text/plain": [
       "VBox()"
      ]
     },
     "metadata": {},
     "output_type": "display_data"
    },
    {
     "name": "stdout",
     "output_type": "stream",
     "text": [
      "Starting Spark application\n"
     ]
    },
    {
     "data": {
      "text/html": [
       "<table>\n",
       "<tr><th>ID</th><th>YARN Application ID</th><th>Kind</th><th>State</th><th>Spark UI</th><th>Driver log</th><th>Current session?</th></tr><tr><td>0</td><td>application_1597064053054_0001</td><td>pyspark</td><td>idle</td><td><a target=\"_blank\" href=\"http://ip-172-31-32-87.us-east-2.compute.internal:20888/proxy/application_1597064053054_0001/\">Link</a></td><td><a target=\"_blank\" href=\"http://ip-172-31-32-36.us-east-2.compute.internal:8042/node/containerlogs/container_1597064053054_0001_01_000001/livy\">Link</a></td><td>✔</td></tr></table>"
      ],
      "text/plain": [
       "<IPython.core.display.HTML object>"
      ]
     },
     "metadata": {},
     "output_type": "display_data"
    },
    {
     "data": {
      "application/vnd.jupyter.widget-view+json": {
       "model_id": "",
       "version_major": 2,
       "version_minor": 0
      },
      "text/plain": [
       "FloatProgress(value=0.0, bar_style='info', description='Progress:', layout=Layout(height='25px', width='50%'),…"
      ]
     },
     "metadata": {},
     "output_type": "display_data"
    },
    {
     "name": "stdout",
     "output_type": "stream",
     "text": [
      "SparkSession available as 'spark'.\n"
     ]
    },
    {
     "data": {
      "application/vnd.jupyter.widget-view+json": {
       "model_id": "",
       "version_major": 2,
       "version_minor": 0
      },
      "text/plain": [
       "FloatProgress(value=0.0, bar_style='info', description='Progress:', layout=Layout(height='25px', width='50%'),…"
      ]
     },
     "metadata": {},
     "output_type": "display_data"
    },
    {
     "name": "stdout",
     "output_type": "stream",
     "text": [
      "Collecting pandas\n",
      "  Downloading https://files.pythonhosted.org/packages/94/b1/f77f49cc7cc538b247f30c2ae7e3a50f29e44f0b1af32ff4869d7de3c762/pandas-1.1.0-cp37-cp37m-manylinux1_x86_64.whl (10.5MB)\n",
      "Requirement already satisfied: numpy>=1.15.4 in /usr/local/lib64/python3.7/site-packages (from pandas)\n",
      "Requirement already satisfied: pytz>=2017.2 in /usr/local/lib/python3.7/site-packages (from pandas)\n",
      "Collecting python-dateutil>=2.7.3 (from pandas)\n",
      "  Downloading https://files.pythonhosted.org/packages/d4/70/d60450c3dd48ef87586924207ae8907090de0b306af2bce5d134d78615cb/python_dateutil-2.8.1-py2.py3-none-any.whl (227kB)\n",
      "Requirement already satisfied: six>=1.5 in /usr/local/lib/python3.7/site-packages (from python-dateutil>=2.7.3->pandas)\n",
      "Installing collected packages: python-dateutil, pandas\n",
      "Successfully installed pandas-1.1.0 python-dateutil-2.8.1\n",
      "\n",
      "Collecting Matplotlib\n",
      "  Downloading https://files.pythonhosted.org/packages/1c/15/3fea1bfb7e5b77b7cca9c6010a9cabc58ea125385345ecb6f5832eb8b49a/matplotlib-3.3.0-1-cp37-cp37m-manylinux1_x86_64.whl (11.5MB)\n",
      "Requirement already satisfied: numpy>=1.15 in /usr/local/lib64/python3.7/site-packages (from Matplotlib)\n",
      "Requirement already satisfied: python-dateutil>=2.1 in /mnt/tmp/1597064319531-0/lib/python3.7/site-packages (from Matplotlib)\n",
      "Collecting pyparsing!=2.0.4,!=2.1.2,!=2.1.6,>=2.0.3 (from Matplotlib)\n",
      "  Downloading https://files.pythonhosted.org/packages/8a/bb/488841f56197b13700afd5658fc279a2025a39e22449b7cf29864669b15d/pyparsing-2.4.7-py2.py3-none-any.whl (67kB)\n",
      "Collecting pillow>=6.2.0 (from Matplotlib)\n",
      "  Downloading https://files.pythonhosted.org/packages/e8/f2/6722dd0c22e3a143ac792ccb2424924ac72af4adea756b1165b4cad50da7/Pillow-7.2.0-cp37-cp37m-manylinux1_x86_64.whl (2.2MB)\n",
      "Collecting cycler>=0.10 (from Matplotlib)\n",
      "  Downloading https://files.pythonhosted.org/packages/f7/d2/e07d3ebb2bd7af696440ce7e754c59dd546ffe1bbe732c8ab68b9c834e61/cycler-0.10.0-py2.py3-none-any.whl\n",
      "Collecting kiwisolver>=1.0.1 (from Matplotlib)\n",
      "  Downloading https://files.pythonhosted.org/packages/31/b9/6202dcae729998a0ade30e80ac00f616542ef445b088ec970d407dfd41c0/kiwisolver-1.2.0-cp37-cp37m-manylinux1_x86_64.whl (88kB)\n",
      "Requirement already satisfied: six>=1.5 in /usr/local/lib/python3.7/site-packages (from python-dateutil>=2.1->Matplotlib)\n",
      "Installing collected packages: pyparsing, pillow, cycler, kiwisolver, Matplotlib\n",
      "Successfully installed Matplotlib-3.3.0 cycler-0.10.0 kiwisolver-1.2.0 pillow-7.2.0 pyparsing-2.4.7\n",
      "\n",
      "Collecting s3fs\n",
      "  Downloading https://files.pythonhosted.org/packages/b8/e4/b8fc59248399d2482b39340ec9be4bb2493846ac23641b43115a7e5cd675/s3fs-0.4.2-py3-none-any.whl\n",
      "Collecting fsspec>=0.6.0 (from s3fs)\n",
      "  Downloading https://files.pythonhosted.org/packages/d3/66/974e01194980d9780cc09724315111f9cccba26b4351552fdb4d97eb842e/fsspec-0.8.0-py3-none-any.whl (85kB)\n",
      "Collecting botocore>=1.12.91 (from s3fs)\n",
      "  Downloading https://files.pythonhosted.org/packages/2a/d2/c5f9834dc659eb78bad85b683915a31593137ab43c323ac0dc7a83e27e96/botocore-1.17.38-py2.py3-none-any.whl (6.5MB)\n",
      "Collecting urllib3<1.26,>=1.20; python_version != \"3.4\" (from botocore>=1.12.91->s3fs)\n",
      "  Downloading https://files.pythonhosted.org/packages/9f/f0/a391d1463ebb1b233795cabfc0ef38d3db4442339de68f847026199e69d7/urllib3-1.25.10-py2.py3-none-any.whl (127kB)\n",
      "Requirement already satisfied: python-dateutil<3.0.0,>=2.1 in /mnt/tmp/1597064319531-0/lib/python3.7/site-packages (from botocore>=1.12.91->s3fs)\n",
      "Requirement already satisfied: jmespath<1.0.0,>=0.7.1 in /usr/local/lib/python3.7/site-packages (from botocore>=1.12.91->s3fs)\n",
      "Collecting docutils<0.16,>=0.10 (from botocore>=1.12.91->s3fs)\n",
      "  Downloading https://files.pythonhosted.org/packages/22/cd/a6aa959dca619918ccb55023b4cb151949c64d4d5d55b3f4ffd7eee0c6e8/docutils-0.15.2-py3-none-any.whl (547kB)\n",
      "Requirement already satisfied: six>=1.5 in /usr/local/lib/python3.7/site-packages (from python-dateutil<3.0.0,>=2.1->botocore>=1.12.91->s3fs)\n",
      "Installing collected packages: fsspec, urllib3, docutils, botocore, s3fs\n",
      "Successfully installed botocore-1.17.38 docutils-0.15.2 fsspec-0.8.0 s3fs-0.4.2 urllib3-1.25.10\n",
      "\n",
      "Collecting fuzzywuzzy\n",
      "  Downloading https://files.pythonhosted.org/packages/43/ff/74f23998ad2f93b945c0309f825be92e04e0348e062026998b5eefef4c33/fuzzywuzzy-0.18.0-py2.py3-none-any.whl\n",
      "Installing collected packages: fuzzywuzzy\n",
      "Successfully installed fuzzywuzzy-0.18.0"
     ]
    }
   ],
   "source": [
    "sc.install_pypi_package(\"pandas\")\n",
    "sc.install_pypi_package(\"Matplotlib\")\n",
    "sc.install_pypi_package(\"s3fs\")\n",
    "sc.install_pypi_package(\"fuzzywuzzy\")"
   ]
  },
  {
   "cell_type": "code",
   "execution_count": 2,
   "metadata": {},
   "outputs": [
    {
     "data": {
      "application/vnd.jupyter.widget-view+json": {
       "model_id": "5bd53dd0ba1c45048637046ca2cd5b52",
       "version_major": 2,
       "version_minor": 0
      },
      "text/plain": [
       "VBox()"
      ]
     },
     "metadata": {},
     "output_type": "display_data"
    },
    {
     "data": {
      "application/vnd.jupyter.widget-view+json": {
       "model_id": "",
       "version_major": 2,
       "version_minor": 0
      },
      "text/plain": [
       "FloatProgress(value=0.0, bar_style='info', description='Progress:', layout=Layout(height='25px', width='50%'),…"
      ]
     },
     "metadata": {},
     "output_type": "display_data"
    }
   ],
   "source": [
    "import pandas as pd\n",
    "import matplotlib.pyplot as plt\n",
    "import s3fs\n",
    "from pyspark.sql.functions import *\n",
    "from pyspark.sql.types import LongType"
   ]
  },
  {
   "cell_type": "markdown",
   "metadata": {},
   "source": [
    "### Import Reference Tables"
   ]
  },
  {
   "cell_type": "code",
   "execution_count": 3,
   "metadata": {},
   "outputs": [
    {
     "data": {
      "application/vnd.jupyter.widget-view+json": {
       "model_id": "0bd19b4f20a8474197f25cb0b8cbfa55",
       "version_major": 2,
       "version_minor": 0
      },
      "text/plain": [
       "VBox()"
      ]
     },
     "metadata": {},
     "output_type": "display_data"
    },
    {
     "data": {
      "application/vnd.jupyter.widget-view+json": {
       "model_id": "",
       "version_major": 2,
       "version_minor": 0
      },
      "text/plain": [
       "FloatProgress(value=0.0, bar_style='info', description='Progress:', layout=Layout(height='25px', width='50%'),…"
      ]
     },
     "metadata": {},
     "output_type": "display_data"
    }
   ],
   "source": [
    "hcpcs=\"s3://ms-syntheamass-1m-mldata/syntheamassCSV/HCPCS/HCPCSCodescsv\"\n",
    "cvx = \"s3://ms-syntheamass-1m-mldata/syntheamassCSV/CVX/web_cvx.csv\"\n",
    "loinc= \"s3://ms-syntheamass-1m-mldata/syntheamassCSV/LOINC/Loinc.csv\"\n",
    "snomed= \"s3://ms-syntheamass-1m-mldata/syntheamassCSV/SnomedCT_USEditionRF2_PRODUCTION_20200301T120000Z/snowmed.csv\""
   ]
  },
  {
   "cell_type": "markdown",
   "metadata": {},
   "source": [
    "## Input User Defined Variables Here:"
   ]
  },
  {
   "cell_type": "code",
   "execution_count": 4,
   "metadata": {},
   "outputs": [
    {
     "data": {
      "application/vnd.jupyter.widget-view+json": {
       "model_id": "614aae125d904691b60a9ab9100e5f8d",
       "version_major": 2,
       "version_minor": 0
      },
      "text/plain": [
       "VBox()"
      ]
     },
     "metadata": {},
     "output_type": "display_data"
    },
    {
     "data": {
      "application/vnd.jupyter.widget-view+json": {
       "model_id": "",
       "version_major": 2,
       "version_minor": 0
      },
      "text/plain": [
       "FloatProgress(value=0.0, bar_style='info', description='Progress:', layout=Layout(height='25px', width='50%'),…"
      ]
     },
     "metadata": {},
     "output_type": "display_data"
    }
   ],
   "source": [
    "bucket_data= \"s3://ms-syntheamass-1m-mldata/syntheamassCSV/output_1/csv/observations.csv\"##Choose the data set to review\n",
    "K=8 ##Choose Number of Clusters\n",
    "tabr = spark.read.format(\"csv\").option(\"inferSchema\", False).option(\"header\", True).load(loinc)##Choose Reference Table"
   ]
  },
  {
   "cell_type": "markdown",
   "metadata": {},
   "source": [
    "# DataFrame"
   ]
  },
  {
   "cell_type": "code",
   "execution_count": 5,
   "metadata": {},
   "outputs": [
    {
     "data": {
      "application/vnd.jupyter.widget-view+json": {
       "model_id": "8f43b490c7ba4aeba20d43d12c972db7",
       "version_major": 2,
       "version_minor": 0
      },
      "text/plain": [
       "VBox()"
      ]
     },
     "metadata": {},
     "output_type": "display_data"
    },
    {
     "data": {
      "application/vnd.jupyter.widget-view+json": {
       "model_id": "",
       "version_major": 2,
       "version_minor": 0
      },
      "text/plain": [
       "FloatProgress(value=0.0, bar_style='info', description='Progress:', layout=Layout(height='25px', width='50%'),…"
      ]
     },
     "metadata": {},
     "output_type": "display_data"
    },
    {
     "name": "stdout",
     "output_type": "stream",
     "text": [
      "+-------+---------------+\n",
      "|CODE   |DESCRIPTION    |\n",
      "+-------+---------------+\n",
      "|8302-2 |Body Height    |\n",
      "|8302-2 |Body Height    |\n",
      "|29463-7|Body Weight    |\n",
      "|29463-7|Body Weight    |\n",
      "|39156-5|Body Mass Index|\n",
      "+-------+---------------+\n",
      "only showing top 5 rows"
     ]
    }
   ],
   "source": [
    "cdf = spark.read.format(\"csv\").option(\"inferSchema\",False).option(\"header\",True).load(bucket_data)\n",
    "cdf=cdf.select(\"CODE\",\"DESCRIPTION\")\n",
    "cdf=cdf.dropna()\n",
    "cdf.show(5,truncate=False)"
   ]
  },
  {
   "cell_type": "markdown",
   "metadata": {},
   "source": [
    "## Indexing Descriptions"
   ]
  },
  {
   "cell_type": "code",
   "execution_count": 6,
   "metadata": {
    "scrolled": false
   },
   "outputs": [
    {
     "data": {
      "application/vnd.jupyter.widget-view+json": {
       "model_id": "8b4202c4ed7a4a0daa3a657d438cc0dd",
       "version_major": 2,
       "version_minor": 0
      },
      "text/plain": [
       "VBox()"
      ]
     },
     "metadata": {},
     "output_type": "display_data"
    },
    {
     "data": {
      "application/vnd.jupyter.widget-view+json": {
       "model_id": "",
       "version_major": 2,
       "version_minor": 0
      },
      "text/plain": [
       "FloatProgress(value=0.0, bar_style='info', description='Progress:', layout=Layout(height='25px', width='50%'),…"
      ]
     },
     "metadata": {},
     "output_type": "display_data"
    },
    {
     "name": "stdout",
     "output_type": "stream",
     "text": [
      "+-------+-------------+\n",
      "|   CODE|DESCRIPTION_I|\n",
      "+-------+-------------+\n",
      "| 8302-2|          0.0|\n",
      "| 8302-2|          0.0|\n",
      "|29463-7|          2.0|\n",
      "|29463-7|          2.0|\n",
      "|39156-5|          4.0|\n",
      "+-------+-------------+\n",
      "only showing top 5 rows"
     ]
    }
   ],
   "source": [
    "from pyspark.ml.feature import StringIndexer\n",
    "indexer=StringIndexer(inputCol=\"DESCRIPTION\",outputCol=\"DESCRIPTION_I\")\n",
    "coord=indexer.fit(cdf).transform(cdf)\n",
    "coord=coord.select(\"CODE\",\"DESCRIPTION_I\")\n",
    "coord.show(5)"
   ]
  },
  {
   "cell_type": "markdown",
   "metadata": {},
   "source": [
    "### Formats Code to Int"
   ]
  },
  {
   "cell_type": "code",
   "execution_count": 7,
   "metadata": {},
   "outputs": [
    {
     "data": {
      "application/vnd.jupyter.widget-view+json": {
       "model_id": "fa358ff10b8744b685d5d0d937551dda",
       "version_major": 2,
       "version_minor": 0
      },
      "text/plain": [
       "VBox()"
      ]
     },
     "metadata": {},
     "output_type": "display_data"
    },
    {
     "data": {
      "application/vnd.jupyter.widget-view+json": {
       "model_id": "",
       "version_major": 2,
       "version_minor": 0
      },
      "text/plain": [
       "FloatProgress(value=0.0, bar_style='info', description='Progress:', layout=Layout(height='25px', width='50%'),…"
      ]
     },
     "metadata": {},
     "output_type": "display_data"
    },
    {
     "name": "stdout",
     "output_type": "stream",
     "text": [
      "+------+-------------+\n",
      "|  CODE|DESCRIPTION_I|\n",
      "+------+-------------+\n",
      "| 83022|          0.0|\n",
      "| 83022|          0.0|\n",
      "|294637|          2.0|\n",
      "|294637|          2.0|\n",
      "|391565|          4.0|\n",
      "+------+-------------+\n",
      "only showing top 5 rows"
     ]
    }
   ],
   "source": [
    "coord=coord.withColumn('CODE',regexp_replace('CODE','-',''))\n",
    "if coord.dtypes[0][1]!='bigint':\n",
    "    coord=coord.withColumn('CODE',col('CODE').cast(LongType()))\n",
    "coord.show(5)"
   ]
  },
  {
   "cell_type": "code",
   "execution_count": 8,
   "metadata": {
    "scrolled": false
   },
   "outputs": [
    {
     "data": {
      "application/vnd.jupyter.widget-view+json": {
       "model_id": "9e2fc30b755d4783afc3c8ffa26ebba9",
       "version_major": 2,
       "version_minor": 0
      },
      "text/plain": [
       "VBox()"
      ]
     },
     "metadata": {},
     "output_type": "display_data"
    },
    {
     "data": {
      "application/vnd.jupyter.widget-view+json": {
       "model_id": "",
       "version_major": 2,
       "version_minor": 0
      },
      "text/plain": [
       "FloatProgress(value=0.0, bar_style='info', description='Progress:', layout=Layout(height='25px', width='50%'),…"
      ]
     },
     "metadata": {},
     "output_type": "display_data"
    }
   ],
   "source": [
    "vis=coord.toPandas()"
   ]
  },
  {
   "cell_type": "code",
   "execution_count": 9,
   "metadata": {
    "scrolled": false
   },
   "outputs": [
    {
     "data": {
      "application/vnd.jupyter.widget-view+json": {
       "model_id": "5f229c0abc2d4facae1799bfe18b09dc",
       "version_major": 2,
       "version_minor": 0
      },
      "text/plain": [
       "VBox()"
      ]
     },
     "metadata": {},
     "output_type": "display_data"
    },
    {
     "data": {
      "application/vnd.jupyter.widget-view+json": {
       "model_id": "",
       "version_major": 2,
       "version_minor": 0
      },
      "text/plain": [
       "FloatProgress(value=0.0, bar_style='info', description='Progress:', layout=Layout(height='25px', width='50%'),…"
      ]
     },
     "metadata": {},
     "output_type": "display_data"
    },
    {
     "data": {
      "image/png": "[encoded data removed]",
      "text/plain": [
       "<IPython.core.display.Image object>"
      ]
     },
     "metadata": {},
     "output_type": "display_data"
    }
   ],
   "source": [
    "plt.scatter(vis['DESCRIPTION_I'],vis['CODE'])\n",
    "plt.xlabel('Description')\n",
    "plt.ylabel('Code #')\n",
    "plt.show()\n",
    "%matplot plt"
   ]
  },
  {
   "cell_type": "markdown",
   "metadata": {},
   "source": [
    "## Clustering"
   ]
  },
  {
   "cell_type": "markdown",
   "metadata": {},
   "source": [
    "### Making Feature Vectors"
   ]
  },
  {
   "cell_type": "code",
   "execution_count": 10,
   "metadata": {},
   "outputs": [
    {
     "data": {
      "application/vnd.jupyter.widget-view+json": {
       "model_id": "1d2fd240002d43b49a97990ab6d7763e",
       "version_major": 2,
       "version_minor": 0
      },
      "text/plain": [
       "VBox()"
      ]
     },
     "metadata": {},
     "output_type": "display_data"
    },
    {
     "data": {
      "application/vnd.jupyter.widget-view+json": {
       "model_id": "",
       "version_major": 2,
       "version_minor": 0
      },
      "text/plain": [
       "FloatProgress(value=0.0, bar_style='info', description='Progress:', layout=Layout(height='25px', width='50%'),…"
      ]
     },
     "metadata": {},
     "output_type": "display_data"
    },
    {
     "name": "stdout",
     "output_type": "stream",
     "text": [
      "+------+-------------+--------------+\n",
      "|  CODE|DESCRIPTION_I|      features|\n",
      "+------+-------------+--------------+\n",
      "| 83022|          0.0| [83022.0,0.0]|\n",
      "| 83022|          0.0| [83022.0,0.0]|\n",
      "|294637|          2.0|[294637.0,2.0]|\n",
      "|294637|          2.0|[294637.0,2.0]|\n",
      "|391565|          4.0|[391565.0,4.0]|\n",
      "+------+-------------+--------------+\n",
      "only showing top 5 rows"
     ]
    }
   ],
   "source": [
    "from pyspark.ml.feature import VectorAssembler\n",
    "features = [\"CODE\",\"DESCRIPTION_I\"]\n",
    "assembler=VectorAssembler(inputCols=features,outputCol=\"features\")\n",
    "raw_data=assembler.transform(coord)\n",
    "raw_data.show(5)"
   ]
  },
  {
   "cell_type": "code",
   "execution_count": 11,
   "metadata": {},
   "outputs": [
    {
     "data": {
      "application/vnd.jupyter.widget-view+json": {
       "model_id": "41d41d59a1a1471eb128e8966305fb7c",
       "version_major": 2,
       "version_minor": 0
      },
      "text/plain": [
       "VBox()"
      ]
     },
     "metadata": {},
     "output_type": "display_data"
    },
    {
     "data": {
      "application/vnd.jupyter.widget-view+json": {
       "model_id": "",
       "version_major": 2,
       "version_minor": 0
      },
      "text/plain": [
       "FloatProgress(value=0.0, bar_style='info', description='Progress:', layout=Layout(height='25px', width='50%'),…"
      ]
     },
     "metadata": {},
     "output_type": "display_data"
    }
   ],
   "source": [
    "from pyspark.ml.feature import StandardScaler\n",
    "standardScaler=StandardScaler().setInputCol(\"features\").setOutputCol(\"scaled_features\")\n",
    "raw_data=standardScaler.fit(raw_data).transform(raw_data)"
   ]
  },
  {
   "cell_type": "code",
   "execution_count": 12,
   "metadata": {
    "scrolled": true
   },
   "outputs": [
    {
     "data": {
      "application/vnd.jupyter.widget-view+json": {
       "model_id": "e039b245e1454a76b1959a81c73b02a4",
       "version_major": 2,
       "version_minor": 0
      },
      "text/plain": [
       "VBox()"
      ]
     },
     "metadata": {},
     "output_type": "display_data"
    },
    {
     "data": {
      "application/vnd.jupyter.widget-view+json": {
       "model_id": "",
       "version_major": 2,
       "version_minor": 0
      },
      "text/plain": [
       "FloatProgress(value=0.0, bar_style='info', description='Progress:', layout=Layout(height='25px', width='50%'),…"
      ]
     },
     "metadata": {},
     "output_type": "display_data"
    },
    {
     "name": "stdout",
     "output_type": "stream",
     "text": [
      "+------+-------------+--------------+------------------------------------------+\n",
      "|CODE  |DESCRIPTION_I|features      |scaled_features                           |\n",
      "+------+-------------+--------------+------------------------------------------+\n",
      "|83022 |0.0          |[83022.0,0.0] |[0.008154233609368153,0.0]                |\n",
      "|83022 |0.0          |[83022.0,0.0] |[0.008154233609368153,0.0]                |\n",
      "|294637|2.0          |[294637.0,2.0]|[0.028938581676705027,0.26943809639674526]|\n",
      "|294637|2.0          |[294637.0,2.0]|[0.028938581676705027,0.26943809639674526]|\n",
      "|391565|4.0          |[391565.0,4.0]|[0.03845863124535956,0.5388761927934905]  |\n",
      "+------+-------------+--------------+------------------------------------------+\n",
      "only showing top 5 rows"
     ]
    }
   ],
   "source": [
    "raw_data.show(5,truncate=False)"
   ]
  },
  {
   "cell_type": "markdown",
   "metadata": {},
   "source": [
    "## K-Means"
   ]
  },
  {
   "cell_type": "code",
   "execution_count": 13,
   "metadata": {},
   "outputs": [
    {
     "data": {
      "application/vnd.jupyter.widget-view+json": {
       "model_id": "ecd8b537aace425c98799ef73bd7ea2b",
       "version_major": 2,
       "version_minor": 0
      },
      "text/plain": [
       "VBox()"
      ]
     },
     "metadata": {},
     "output_type": "display_data"
    },
    {
     "data": {
      "application/vnd.jupyter.widget-view+json": {
       "model_id": "",
       "version_major": 2,
       "version_minor": 0
      },
      "text/plain": [
       "FloatProgress(value=0.0, bar_style='info', description='Progress:', layout=Layout(height='25px', width='50%'),…"
      ]
     },
     "metadata": {},
     "output_type": "display_data"
    }
   ],
   "source": [
    "from pyspark.ml.clustering import KMeans\n",
    "kmeans=KMeans(featuresCol=\"scaled_features\").setK(K)\n",
    "model=kmeans.fit(raw_data)"
   ]
  },
  {
   "cell_type": "code",
   "execution_count": 14,
   "metadata": {},
   "outputs": [
    {
     "data": {
      "application/vnd.jupyter.widget-view+json": {
       "model_id": "44e3d36b4e3c4f2691e00f7fef157ca3",
       "version_major": 2,
       "version_minor": 0
      },
      "text/plain": [
       "VBox()"
      ]
     },
     "metadata": {},
     "output_type": "display_data"
    },
    {
     "data": {
      "application/vnd.jupyter.widget-view+json": {
       "model_id": "",
       "version_major": 2,
       "version_minor": 0
      },
      "text/plain": [
       "FloatProgress(value=0.0, bar_style='info', description='Progress:', layout=Layout(height='25px', width='50%'),…"
      ]
     },
     "metadata": {},
     "output_type": "display_data"
    }
   ],
   "source": [
    "predictions = model.transform(raw_data)"
   ]
  },
  {
   "cell_type": "code",
   "execution_count": 15,
   "metadata": {
    "scrolled": true
   },
   "outputs": [
    {
     "data": {
      "application/vnd.jupyter.widget-view+json": {
       "model_id": "449d4e3e4ef3456d8cc67a80054cb654",
       "version_major": 2,
       "version_minor": 0
      },
      "text/plain": [
       "VBox()"
      ]
     },
     "metadata": {},
     "output_type": "display_data"
    },
    {
     "data": {
      "application/vnd.jupyter.widget-view+json": {
       "model_id": "",
       "version_major": 2,
       "version_minor": 0
      },
      "text/plain": [
       "FloatProgress(value=0.0, bar_style='info', description='Progress:', layout=Layout(height='25px', width='50%'),…"
      ]
     },
     "metadata": {},
     "output_type": "display_data"
    },
    {
     "name": "stdout",
     "output_type": "stream",
     "text": [
      "+----------+-----------------+\n",
      "|prediction|count(prediction)|\n",
      "+----------+-----------------+\n",
      "|         1|             6533|\n",
      "|         6|           702248|\n",
      "|         3|            90759|\n",
      "|         4|          2872837|\n",
      "|         5|             2019|\n",
      "|         2|           285806|\n",
      "|         7|           790620|\n",
      "|         0|           632496|\n",
      "+----------+-----------------+"
     ]
    }
   ],
   "source": [
    "clusters=predictions.select(\"prediction\")\n",
    "clusters.groupby(\"prediction\").agg({'prediction':'count'}).show()"
   ]
  },
  {
   "cell_type": "markdown",
   "metadata": {},
   "source": [
    "## Bisecting K-Means"
   ]
  },
  {
   "cell_type": "code",
   "execution_count": 16,
   "metadata": {
    "scrolled": true
   },
   "outputs": [
    {
     "data": {
      "application/vnd.jupyter.widget-view+json": {
       "model_id": "98a8d075c9734cd1a93ae0a0cba2cafb",
       "version_major": 2,
       "version_minor": 0
      },
      "text/plain": [
       "VBox()"
      ]
     },
     "metadata": {},
     "output_type": "display_data"
    },
    {
     "data": {
      "application/vnd.jupyter.widget-view+json": {
       "model_id": "",
       "version_major": 2,
       "version_minor": 0
      },
      "text/plain": [
       "FloatProgress(value=0.0, bar_style='info', description='Progress:', layout=Layout(height='25px', width='50%'),…"
      ]
     },
     "metadata": {},
     "output_type": "display_data"
    }
   ],
   "source": [
    "from pyspark.ml.clustering import BisectingKMeans\n",
    "bkm=BisectingKMeans(featuresCol=\"scaled_features\").setK(K)\n",
    "model=bkm.fit(raw_data)"
   ]
  },
  {
   "cell_type": "code",
   "execution_count": 17,
   "metadata": {},
   "outputs": [
    {
     "data": {
      "application/vnd.jupyter.widget-view+json": {
       "model_id": "713e807304834a449e5bd634172d9df2",
       "version_major": 2,
       "version_minor": 0
      },
      "text/plain": [
       "VBox()"
      ]
     },
     "metadata": {},
     "output_type": "display_data"
    },
    {
     "data": {
      "application/vnd.jupyter.widget-view+json": {
       "model_id": "",
       "version_major": 2,
       "version_minor": 0
      },
      "text/plain": [
       "FloatProgress(value=0.0, bar_style='info', description='Progress:', layout=Layout(height='25px', width='50%'),…"
      ]
     },
     "metadata": {},
     "output_type": "display_data"
    }
   ],
   "source": [
    "predictions_b=model.transform(raw_data)"
   ]
  },
  {
   "cell_type": "code",
   "execution_count": 18,
   "metadata": {},
   "outputs": [
    {
     "data": {
      "application/vnd.jupyter.widget-view+json": {
       "model_id": "3e30b501b6704f8c83efcb24f6cf74cb",
       "version_major": 2,
       "version_minor": 0
      },
      "text/plain": [
       "VBox()"
      ]
     },
     "metadata": {},
     "output_type": "display_data"
    },
    {
     "data": {
      "application/vnd.jupyter.widget-view+json": {
       "model_id": "",
       "version_major": 2,
       "version_minor": 0
      },
      "text/plain": [
       "FloatProgress(value=0.0, bar_style='info', description='Progress:', layout=Layout(height='25px', width='50%'),…"
      ]
     },
     "metadata": {},
     "output_type": "display_data"
    },
    {
     "name": "stdout",
     "output_type": "stream",
     "text": [
      "+----------+-----------------+\n",
      "|prediction|count(prediction)|\n",
      "+----------+-----------------+\n",
      "|         1|          1177312|\n",
      "|         6|             4116|\n",
      "|         3|           632496|\n",
      "|         4|          1437374|\n",
      "|         5|           115811|\n",
      "|         2|           834461|\n",
      "|         7|             4436|\n",
      "|         0|          1177312|\n",
      "+----------+-----------------+"
     ]
    }
   ],
   "source": [
    "cm=predictions_b.select(\"prediction\")\n",
    "cm.groupby(\"prediction\").agg({'prediction':'count'}).show()"
   ]
  },
  {
   "cell_type": "markdown",
   "metadata": {},
   "source": [
    "## Gaussian Mixture"
   ]
  },
  {
   "cell_type": "code",
   "execution_count": 19,
   "metadata": {},
   "outputs": [
    {
     "data": {
      "application/vnd.jupyter.widget-view+json": {
       "model_id": "12c5ad5f85a94ec9a904ee1fbe11c56e",
       "version_major": 2,
       "version_minor": 0
      },
      "text/plain": [
       "VBox()"
      ]
     },
     "metadata": {},
     "output_type": "display_data"
    },
    {
     "data": {
      "application/vnd.jupyter.widget-view+json": {
       "model_id": "",
       "version_major": 2,
       "version_minor": 0
      },
      "text/plain": [
       "FloatProgress(value=0.0, bar_style='info', description='Progress:', layout=Layout(height='25px', width='50%'),…"
      ]
     },
     "metadata": {},
     "output_type": "display_data"
    }
   ],
   "source": [
    "from pyspark.ml.clustering import GaussianMixture\n",
    "gm=GaussianMixture(featuresCol=\"scaled_features\").setK(K)\n",
    "model=gm.fit(raw_data)"
   ]
  },
  {
   "cell_type": "code",
   "execution_count": 20,
   "metadata": {
    "scrolled": true
   },
   "outputs": [
    {
     "data": {
      "application/vnd.jupyter.widget-view+json": {
       "model_id": "215910a5063440a892f4bb516eaf85df",
       "version_major": 2,
       "version_minor": 0
      },
      "text/plain": [
       "VBox()"
      ]
     },
     "metadata": {},
     "output_type": "display_data"
    },
    {
     "data": {
      "application/vnd.jupyter.widget-view+json": {
       "model_id": "",
       "version_major": 2,
       "version_minor": 0
      },
      "text/plain": [
       "FloatProgress(value=0.0, bar_style='info', description='Progress:', layout=Layout(height='25px', width='50%'),…"
      ]
     },
     "metadata": {},
     "output_type": "display_data"
    }
   ],
   "source": [
    "predictions_c=model.transform(raw_data)"
   ]
  },
  {
   "cell_type": "code",
   "execution_count": 21,
   "metadata": {
    "scrolled": true
   },
   "outputs": [
    {
     "data": {
      "application/vnd.jupyter.widget-view+json": {
       "model_id": "3cff11733ebf4b9083d03f44046c3d35",
       "version_major": 2,
       "version_minor": 0
      },
      "text/plain": [
       "VBox()"
      ]
     },
     "metadata": {},
     "output_type": "display_data"
    },
    {
     "data": {
      "application/vnd.jupyter.widget-view+json": {
       "model_id": "",
       "version_major": 2,
       "version_minor": 0
      },
      "text/plain": [
       "FloatProgress(value=0.0, bar_style='info', description='Progress:', layout=Layout(height='25px', width='50%'),…"
      ]
     },
     "metadata": {},
     "output_type": "display_data"
    },
    {
     "name": "stdout",
     "output_type": "stream",
     "text": [
      "+----------+-----------------+\n",
      "|prediction|count(prediction)|\n",
      "+----------+-----------------+\n",
      "|         1|          1106869|\n",
      "|         6|           158124|\n",
      "|         3|            16199|\n",
      "|         4|           663073|\n",
      "|         5|           474372|\n",
      "|         2|          1040589|\n",
      "|         7|           158124|\n",
      "|         0|          1765968|\n",
      "+----------+-----------------+"
     ]
    }
   ],
   "source": [
    "cluster2=predictions_c.select(\"prediction\")\n",
    "cluster2.groupby(\"prediction\").agg({'prediction':'count'}).show()"
   ]
  },
  {
   "cell_type": "markdown",
   "metadata": {},
   "source": [
    "## Silhouette Score"
   ]
  },
  {
   "cell_type": "code",
   "execution_count": 22,
   "metadata": {
    "scrolled": true
   },
   "outputs": [
    {
     "data": {
      "application/vnd.jupyter.widget-view+json": {
       "model_id": "7e1400b7784848caade788dd03e6a45e",
       "version_major": 2,
       "version_minor": 0
      },
      "text/plain": [
       "VBox()"
      ]
     },
     "metadata": {},
     "output_type": "display_data"
    },
    {
     "data": {
      "application/vnd.jupyter.widget-view+json": {
       "model_id": "",
       "version_major": 2,
       "version_minor": 0
      },
      "text/plain": [
       "FloatProgress(value=0.0, bar_style='info', description='Progress:', layout=Layout(height='25px', width='50%'),…"
      ]
     },
     "metadata": {},
     "output_type": "display_data"
    },
    {
     "name": "stdout",
     "output_type": "stream",
     "text": [
      "K = 8 \n",
      "\n",
      "K-Means = -0.407181659436687 \n",
      "\n",
      "Bisecting K-Means = -0.22482571328181142 \n",
      "\n",
      "Gaussian Mixture = 0.40599123339499343"
     ]
    }
   ],
   "source": [
    "from pyspark.ml.evaluation import ClusteringEvaluator\n",
    "eVal=ClusteringEvaluator()\n",
    "silhouette_k=eVal.evaluate(predictions)\n",
    "silhouette_h=eVal.evaluate(predictions_b)\n",
    "silhouette_g=eVal.evaluate(predictions_c)\n",
    "print(f\"\"\"K = {str(K)} \\n\n",
    "K-Means = {str(silhouette_k)} \\n\n",
    "Bisecting K-Means = {str(silhouette_h)} \\n\n",
    "Gaussian Mixture = {str(silhouette_g)} \"\"\")"
   ]
  },
  {
   "cell_type": "markdown",
   "metadata": {},
   "source": [
    "# Visualization"
   ]
  },
  {
   "cell_type": "code",
   "execution_count": 23,
   "metadata": {
    "scrolled": true
   },
   "outputs": [
    {
     "data": {
      "application/vnd.jupyter.widget-view+json": {
       "model_id": "752fd7865af14b4786e7cf4b34bf6e0e",
       "version_major": 2,
       "version_minor": 0
      },
      "text/plain": [
       "VBox()"
      ]
     },
     "metadata": {},
     "output_type": "display_data"
    },
    {
     "data": {
      "application/vnd.jupyter.widget-view+json": {
       "model_id": "",
       "version_major": 2,
       "version_minor": 0
      },
      "text/plain": [
       "FloatProgress(value=0.0, bar_style='info', description='Progress:', layout=Layout(height='25px', width='50%'),…"
      ]
     },
     "metadata": {},
     "output_type": "display_data"
    }
   ],
   "source": [
    "cdf= cdf.toPandas()\n",
    "kclust=clusters.toPandas()\n",
    "hclust=cm.toPandas()\n",
    "gclust=cluster2.toPandas()"
   ]
  },
  {
   "cell_type": "code",
   "execution_count": 24,
   "metadata": {},
   "outputs": [
    {
     "data": {
      "application/vnd.jupyter.widget-view+json": {
       "model_id": "f16c9af381d14efaa4abe265d7ef717e",
       "version_major": 2,
       "version_minor": 0
      },
      "text/plain": [
       "VBox()"
      ]
     },
     "metadata": {},
     "output_type": "display_data"
    },
    {
     "data": {
      "application/vnd.jupyter.widget-view+json": {
       "model_id": "",
       "version_major": 2,
       "version_minor": 0
      },
      "text/plain": [
       "FloatProgress(value=0.0, bar_style='info', description='Progress:', layout=Layout(height='25px', width='50%'),…"
      ]
     },
     "metadata": {},
     "output_type": "display_data"
    },
    {
     "name": "stdout",
     "output_type": "stream",
     "text": [
      "     CODE  DESCRIPTION_I  prediction\n",
      "0   83022            0.0           0\n",
      "1   83022            0.0           0\n",
      "2  294637            2.0           1\n",
      "3  294637            2.0           1\n",
      "4  391565            4.0           1"
     ]
    }
   ],
   "source": [
    "clust=gclust #change *clust to look at different algorithmns\n",
    "graph=pd.concat([vis,clust],axis=1)\n",
    "text= pd.concat([cdf,clust],axis=1)\n",
    "graph.head()"
   ]
  },
  {
   "cell_type": "code",
   "execution_count": 25,
   "metadata": {
    "scrolled": false
   },
   "outputs": [
    {
     "data": {
      "application/vnd.jupyter.widget-view+json": {
       "model_id": "c2fe301ac21a47429e524a48383aeedf",
       "version_major": 2,
       "version_minor": 0
      },
      "text/plain": [
       "VBox()"
      ]
     },
     "metadata": {},
     "output_type": "display_data"
    },
    {
     "data": {
      "application/vnd.jupyter.widget-view+json": {
       "model_id": "",
       "version_major": 2,
       "version_minor": 0
      },
      "text/plain": [
       "FloatProgress(value=0.0, bar_style='info', description='Progress:', layout=Layout(height='25px', width='50%'),…"
      ]
     },
     "metadata": {},
     "output_type": "display_data"
    },
    {
     "data": {
      "image/png": "[encoded data removed]",
      "text/plain": [
       "<IPython.core.display.Image object>"
      ]
     },
     "metadata": {},
     "output_type": "display_data"
    }
   ],
   "source": [
    "fig = plt.figure(figsize = (8,8))\n",
    "ax = fig.add_subplot(1,1,1) \n",
    "ax.set_xlabel('DESCRIPTION', fontsize = 15)\n",
    "ax.set_ylabel('CODE', fontsize = 15)\n",
    "ax.set_title('Code Distribution', fontsize = 20)\n",
    "\n",
    "\n",
    "targets = [0,1,2,3,4,5,6,7,8]\n",
    "colors = ['r', 'g', 'b','y','m','c','k','w']\n",
    "for target, color in zip(targets,colors):\n",
    "    indicesToKeep = graph['prediction'] == target\n",
    "    ax.scatter(graph.loc[indicesToKeep, 'DESCRIPTION_I']\n",
    "               , graph.loc[indicesToKeep, 'CODE']\n",
    "               , c = color\n",
    "               , s = 50)\n",
    "ax.legend(targets)\n",
    "ax.grid()\n",
    "%matplot plt"
   ]
  },
  {
   "cell_type": "markdown",
   "metadata": {},
   "source": [
    "# Analyzing Data"
   ]
  },
  {
   "cell_type": "markdown",
   "metadata": {},
   "source": [
    "### Counts Length of each cluster, converts pd back to spark"
   ]
  },
  {
   "cell_type": "code",
   "execution_count": 26,
   "metadata": {
    "scrolled": true
   },
   "outputs": [
    {
     "data": {
      "application/vnd.jupyter.widget-view+json": {
       "model_id": "370118b0da5c443e81cd117b83c00fda",
       "version_major": 2,
       "version_minor": 0
      },
      "text/plain": [
       "VBox()"
      ]
     },
     "metadata": {},
     "output_type": "display_data"
    },
    {
     "data": {
      "application/vnd.jupyter.widget-view+json": {
       "model_id": "",
       "version_major": 2,
       "version_minor": 0
      },
      "text/plain": [
       "FloatProgress(value=0.0, bar_style='info', description='Progress:', layout=Layout(height='25px', width='50%'),…"
      ]
     },
     "metadata": {},
     "output_type": "display_data"
    }
   ],
   "source": [
    "group=text\n",
    "total=coord.count()\n",
    "g={}\n",
    "c={}\n",
    "sg={}\n",
    "for i in range(K):\n",
    "    g[\"group{0}\".format(i)]=text[text['prediction']==i]\n",
    "    c[\"count{0}\".format(i)]=len(g[\"group{0}\".format(i)])\n",
    "    g[\"group{0}\".format(i)]=spark.createDataFrame(g[\"group{0}\".format(i)]).select(\"CODE\",\"DESCRIPTION\")"
   ]
  },
  {
   "cell_type": "markdown",
   "metadata": {},
   "source": [
    "### Makes Dictionary of at risk groups"
   ]
  },
  {
   "cell_type": "code",
   "execution_count": 27,
   "metadata": {
    "scrolled": true
   },
   "outputs": [
    {
     "data": {
      "application/vnd.jupyter.widget-view+json": {
       "model_id": "e08d9ce89e0e496dadee114da447cf92",
       "version_major": 2,
       "version_minor": 0
      },
      "text/plain": [
       "VBox()"
      ]
     },
     "metadata": {},
     "output_type": "display_data"
    },
    {
     "data": {
      "application/vnd.jupyter.widget-view+json": {
       "model_id": "",
       "version_major": 2,
       "version_minor": 0
      },
      "text/plain": [
       "FloatProgress(value=0.0, bar_style='info', description='Progress:', layout=Layout(height='25px', width='50%'),…"
      ]
     },
     "metadata": {},
     "output_type": "display_data"
    },
    {
     "name": "stdout",
     "output_type": "stream",
     "text": [
      "Number of at risk groups:  5"
     ]
    }
   ],
   "source": [
    "alv=0;\n",
    "r={}\n",
    "for j in range(K):\n",
    "    if c[\"count{0}\".format(j)] < (total/K):\n",
    "        r[\"risk{0}\".format(alv)]=g[\"group{0}\".format(j)]\n",
    "        alv=alv+1\n",
    "print(\"Number of at risk groups: \",alv)"
   ]
  },
  {
   "cell_type": "markdown",
   "metadata": {},
   "source": [
    "### Merges At risk data"
   ]
  },
  {
   "cell_type": "code",
   "execution_count": 28,
   "metadata": {
    "scrolled": true
   },
   "outputs": [
    {
     "data": {
      "application/vnd.jupyter.widget-view+json": {
       "model_id": "312c392fd03844be9bd702a726be2535",
       "version_major": 2,
       "version_minor": 0
      },
      "text/plain": [
       "VBox()"
      ]
     },
     "metadata": {},
     "output_type": "display_data"
    },
    {
     "data": {
      "application/vnd.jupyter.widget-view+json": {
       "model_id": "",
       "version_major": 2,
       "version_minor": 0
      },
      "text/plain": [
       "FloatProgress(value=0.0, bar_style='info', description='Progress:', layout=Layout(height='25px', width='50%'),…"
      ]
     },
     "metadata": {},
     "output_type": "display_data"
    },
    {
     "name": "stdout",
     "output_type": "stream",
     "text": [
      "1469892"
     ]
    }
   ],
   "source": [
    "risk = r[\"risk0\"]\n",
    "for d in range(alv-1):\n",
    "    risk=risk.union(r[\"risk{0}\".format(d+1)])\n",
    "risk.count()"
   ]
  },
  {
   "cell_type": "markdown",
   "metadata": {},
   "source": [
    "## Code Analysis"
   ]
  },
  {
   "cell_type": "markdown",
   "metadata": {},
   "source": [
    "### Look At Code Reference Table"
   ]
  },
  {
   "cell_type": "code",
   "execution_count": 29,
   "metadata": {
    "scrolled": false
   },
   "outputs": [
    {
     "data": {
      "application/vnd.jupyter.widget-view+json": {
       "model_id": "29d96cef1182486c8441999bf16f2635",
       "version_major": 2,
       "version_minor": 0
      },
      "text/plain": [
       "VBox()"
      ]
     },
     "metadata": {},
     "output_type": "display_data"
    },
    {
     "data": {
      "application/vnd.jupyter.widget-view+json": {
       "model_id": "",
       "version_major": 2,
       "version_minor": 0
      },
      "text/plain": [
       "FloatProgress(value=0.0, bar_style='info', description='Progress:', layout=Layout(height='25px', width='50%'),…"
      ]
     },
     "metadata": {},
     "output_type": "display_data"
    },
    {
     "name": "stdout",
     "output_type": "stream",
     "text": [
      "+---------+--------------------+--------+----------+------+---------+----------+--------+------------------+---------+---------------------+------+-------------+---------+-------+-------+-------------+-----------------+----------------+-------------+---------------+--------------------+----------------+-----------+------------------+---------------------+-------------------------+-------------+--------------------+-------------+------------------+---------------------+-------------+-----------+--------------------+----------------+-----------------+-------------------+------------------------+-----------------------+---------+---------------+----------------------+--------------------+-------------------------+-----------+\n",
      "|LOINC_NUM|           COMPONENT|PROPERTY|TIME_ASPCT|SYSTEM|SCALE_TYP|METHOD_TYP|   CLASS|VersionLastChanged|CHNG_TYPE|DefinitionDescription|STATUS|CONSUMER_NAME|CLASSTYPE|FORMULA|SPECIES|EXMPL_ANSWERS|SURVEY_QUEST_TEXT|SURVEY_QUEST_SRC|UNITSREQUIRED|SUBMITTED_UNITS|       RELATEDNAMES2|       SHORTNAME|  ORDER_OBS|CDISC_COMMON_TESTS|HL7_FIELD_SUBFIELD_ID|EXTERNAL_COPYRIGHT_NOTICE|EXAMPLE_UNITS|    LONG_COMMON_NAME|UnitsAndRange|EXAMPLE_UCUM_UNITS|EXAMPLE_SI_UCUM_UNITS|STATUS_REASON|STATUS_TEXT|CHANGE_REASON_PUBLIC|COMMON_TEST_RANK|COMMON_ORDER_RANK|COMMON_SI_TEST_RANK|HL7_ATTACHMENT_STRUCTURE|EXTERNAL_COPYRIGHT_LINK|PanelType|AskAtOrderEntry|AssociatedObservations|VersionFirstReleased|ValidHL7AttachmentRequest|DisplayName|\n",
      "+---------+--------------------+--------+----------+------+---------+----------+--------+------------------+---------+---------------------+------+-------------+---------+-------+-------+-------------+-----------------+----------------+-------------+---------------+--------------------+----------------+-----------+------------------+---------------------+-------------------------+-------------+--------------------+-------------+------------------+---------------------+-------------+-----------+--------------------+----------------+-----------------+-------------------+------------------------+-----------------------+---------+---------------+----------------------+--------------------+-------------------------+-----------+\n",
      "|  10000-8|R wave duration.l...|    Time|        Pt| Heart|       Qn|       EKG|EKG.MEAS|              2.48|      MIN|                 null|ACTIVE|         null|        2|   null|   null|         null|             null|            null|            Y|           null|Cardiac; Durat; E...|R wave dur L-AVR|Observation|              null|                 null|                     null|            s|R wave duration i...|         null|                 s|                 null|         null|       null|                null|               0|                0|                  0|                    null|                   null|     null|           null|                  null|                1.0i|                     null|       null|\n",
      "|  10001-6|R wave duration.l...|    Time|        Pt| Heart|       Qn|       EKG|EKG.MEAS|              2.48|      MIN|                 null|ACTIVE|         null|        2|   null|   null|         null|             null|            null|            Y|           null|Cardiac; Durat; E...|  R wave dur L-I|Observation|              null|                 null|                     null|            s|R wave duration i...|         null|                 s|                 null|         null|       null|                null|               0|                0|                  0|                    null|                   null|     null|           null|                  null|                1.0i|                     null|       null|\n",
      "|  10002-4|R wave duration.l...|    Time|        Pt| Heart|       Qn|       EKG|EKG.MEAS|              2.48|      MIN|                 null|ACTIVE|         null|        2|   null|   null|         null|             null|            null|            Y|           null|2; Cardiac; Durat...| R wave dur L-II|Observation|              null|                 null|                     null|            s|R wave duration i...|         null|                 s|                 null|         null|       null|                null|               0|                0|                  0|                    null|                   null|     null|           null|                  null|                1.0i|                     null|       null|\n",
      "|  10003-2|R wave duration.l...|    Time|        Pt| Heart|       Qn|       EKG|EKG.MEAS|              2.48|      MIN|                 null|ACTIVE|         null|        2|   null|   null|         null|             null|            null|            Y|           null|3; Cardiac; Durat...|R wave dur L-III|Observation|              null|                 null|                     null|            s|R wave duration i...|         null|                 s|                 null|         null|       null|                null|               0|                0|                  0|                    null|                   null|     null|           null|                  null|                1.0i|                     null|       null|\n",
      "|  10004-0|R wave duration.l...|    Time|        Pt| Heart|       Qn|       EKG|EKG.MEAS|              2.48|      MIN|                 null|ACTIVE|         null|        2|   null|   null|         null|             null|            null|            Y|           null|Cardiac; Durat; E...| R wave dur L-V1|Observation|              null|                 null|                     null|            s|R wave duration i...|         null|                 s|                 null|         null|       null|                null|               0|                0|                  0|                    null|                   null|     null|           null|                  null|                1.0i|                     null|       null|\n",
      "+---------+--------------------+--------+----------+------+---------+----------+--------+------------------+---------+---------------------+------+-------------+---------+-------+-------+-------------+-----------------+----------------+-------------+---------------+--------------------+----------------+-----------+------------------+---------------------+-------------------------+-------------+--------------------+-------------+------------------+---------------------+-------------+-----------+--------------------+----------------+-----------------+-------------------+------------------------+-----------------------+---------+---------------+----------------------+--------------------+-------------------------+-----------+\n",
      "only showing top 5 rows"
     ]
    }
   ],
   "source": [
    "tabr.show(5)"
   ]
  },
  {
   "cell_type": "markdown",
   "metadata": {},
   "source": [
    "### Set up table specific variables (write in name of code and description columns here)"
   ]
  },
  {
   "cell_type": "code",
   "execution_count": 37,
   "metadata": {},
   "outputs": [
    {
     "data": {
      "application/vnd.jupyter.widget-view+json": {
       "model_id": "0714fac655a546d7a621429142ee38fa",
       "version_major": 2,
       "version_minor": 0
      },
      "text/plain": [
       "VBox()"
      ]
     },
     "metadata": {},
     "output_type": "display_data"
    },
    {
     "data": {
      "application/vnd.jupyter.widget-view+json": {
       "model_id": "",
       "version_major": 2,
       "version_minor": 0
      },
      "text/plain": [
       "FloatProgress(value=0.0, bar_style='info', description='Progress:', layout=Layout(height='25px', width='50%'),…"
      ]
     },
     "metadata": {},
     "output_type": "display_data"
    }
   ],
   "source": [
    "tcode=\"`LOINC_NUM`\"\n",
    "tdesc=\"`LONG_COMMON_NAME`\""
   ]
  },
  {
   "cell_type": "markdown",
   "metadata": {},
   "source": [
    "### Match By Code"
   ]
  },
  {
   "cell_type": "code",
   "execution_count": 38,
   "metadata": {
    "scrolled": false
   },
   "outputs": [
    {
     "data": {
      "application/vnd.jupyter.widget-view+json": {
       "model_id": "44e201aa5b774c9680707b72e356da66",
       "version_major": 2,
       "version_minor": 0
      },
      "text/plain": [
       "VBox()"
      ]
     },
     "metadata": {},
     "output_type": "display_data"
    },
    {
     "data": {
      "application/vnd.jupyter.widget-view+json": {
       "model_id": "",
       "version_major": 2,
       "version_minor": 0
      },
      "text/plain": [
       "FloatProgress(value=0.0, bar_style='info', description='Progress:', layout=Layout(height='25px', width='50%'),…"
      ]
     },
     "metadata": {},
     "output_type": "display_data"
    },
    {
     "name": "stdout",
     "output_type": "stream",
     "text": [
      "+---------+--------------------+--------------------+-------+\n",
      "|LOINC_NUM|    LONG_COMMON_NAME|         DESCRIPTION|   CODE|\n",
      "+---------+--------------------+--------------------+-------+\n",
      "|   6206-7|Peanut IgE Ab [Un...|Peanut IgE Ab in ...| 6206-7|\n",
      "|   4548-4|Hemoglobin A1c/He...|Hemoglobin A1c/He...| 4548-4|\n",
      "|  33756-8|Polyp size greate...|Polyp size greate...|33756-8|\n",
      "|   6106-9|Egg white IgE Ab ...|Egg white IgE Ab ...| 6106-9|\n",
      "|  66519-0|Percentage area a...|Percentage area a...|66519-0|\n",
      "|   8331-1|    Oral temperature|    Oral temperature| 8331-1|\n",
      "|   6082-2|Codfish IgE Ab [U...|Codfish IgE Ab in...| 6082-2|\n",
      "|   7258-7|Cow milk IgE Ab [...|Cow milk IgE Ab i...| 7258-7|\n",
      "|   6833-8|Cat dander IgE Ab...|Cat dander IgE Ab...| 6833-8|\n",
      "|  14959-1|Microalbumin/Crea...|Microalbumin Crea...|14959-1|\n",
      "|  19926-5|            FEV1/FVC|           FEV1/​FVC|19926-5|\n",
      "|  38265-5|DXA Radius and Ul...|DXA [T-score] Bon...|38265-5|\n",
      "|  66529-9|Percentage area a...|Percentage area a...|66529-9|\n",
      "|  57905-2|Hemoglobin.gastro...|Hemoglobin.gastro...|57905-2|\n",
      "|  76690-7|  Sexual orientation|  Sexual orientation|76690-7|\n",
      "|   6158-0|Latex IgE Ab [Uni...|Latex IgE Ab in S...| 6158-0|\n",
      "|  66534-9|Percentage area a...|Percentage area a...|66534-9|\n",
      "|   6276-0|Wheat IgE Ab [Uni...|Wheat IgE Ab in S...| 6276-0|\n",
      "|  38483-4|Creatinine [Mass/...|          Creatinine|38483-4|\n",
      "|   6075-6|Cladosporium herb...|Cladosporium herb...| 6075-6|\n",
      "+---------+--------------------+--------------------+-------+\n",
      "only showing top 20 rows\n",
      "\n",
      "# of Matches:  39"
     ]
    }
   ],
   "source": [
    "tabr.createOrReplaceTempView(\"tabr\")\n",
    "\n",
    "risk.createOrReplaceTempView(\"risk\")\n",
    "\n",
    "ma=spark.sql(f\"\"\"\n",
    "select t.{tcode}, t.{tdesc},\n",
    "r.DESCRIPTION, r.CODE \n",
    "from tabr t \n",
    "join risk r\n",
    "on r.CODE = t.{tcode}\n",
    "group by 1, 2, 3, 4\"\"\")\n",
    "ma.show(truncate = True)\n",
    "print(\"# of Matches: \",ma.count())"
   ]
  },
  {
   "cell_type": "markdown",
   "metadata": {},
   "source": [
    "### Display codes without a match"
   ]
  },
  {
   "cell_type": "code",
   "execution_count": 39,
   "metadata": {
    "scrolled": true
   },
   "outputs": [
    {
     "data": {
      "application/vnd.jupyter.widget-view+json": {
       "model_id": "b7a151a6ef1f409cacfd72b87d9c945f",
       "version_major": 2,
       "version_minor": 0
      },
      "text/plain": [
       "VBox()"
      ]
     },
     "metadata": {},
     "output_type": "display_data"
    },
    {
     "data": {
      "application/vnd.jupyter.widget-view+json": {
       "model_id": "",
       "version_major": 2,
       "version_minor": 0
      },
      "text/plain": [
       "FloatProgress(value=0.0, bar_style='info', description='Progress:', layout=Layout(height='25px', width='50%'),…"
      ]
     },
     "metadata": {},
     "output_type": "display_data"
    },
    {
     "name": "stdout",
     "output_type": "stream",
     "text": [
      "+---------+--------------------+\n",
      "|     CODE|         DESCRIPTION|\n",
      "+---------+--------------------+\n",
      "|254637007|Non-small cell lu...|\n",
      "| 55680006|       Drug overdose|\n",
      "| 26929004|Alzheimer's disea...|\n",
      "| 22298006|Myocardial Infarc...|\n",
      "|185086009|Chronic obstructi...|\n",
      "|254632001|Small cell carcin...|\n",
      "|410429000|      Cardiac Arrest|\n",
      "|233604007|           Pneumonia|\n",
      "|230265002|Familial Alzheime...|\n",
      "| 46177005|End stage renal d...|\n",
      "| 87433001|Pulmonary emphyse...|\n",
      "|230690007|              Stroke|\n",
      "+---------+--------------------+"
     ]
    }
   ],
   "source": [
    "tabr.createOrReplaceTempView(\"tabr\")\n",
    "risk.createOrReplaceTempView(\"risk\")\n",
    "\n",
    "spark.sql(f\"\"\"\n",
    "select DISTINCT * \n",
    "from risk r\n",
    "where r.CODE not in (select {tcode} from tabr)\"\"\").show()"
   ]
  },
  {
   "cell_type": "code",
   "execution_count": 40,
   "metadata": {
    "scrolled": false
   },
   "outputs": [
    {
     "data": {
      "application/vnd.jupyter.widget-view+json": {
       "model_id": "0cff438c841e41cd922ebc3a6aead60c",
       "version_major": 2,
       "version_minor": 0
      },
      "text/plain": [
       "VBox()"
      ]
     },
     "metadata": {},
     "output_type": "display_data"
    },
    {
     "data": {
      "application/vnd.jupyter.widget-view+json": {
       "model_id": "",
       "version_major": 2,
       "version_minor": 0
      },
      "text/plain": [
       "FloatProgress(value=0.0, bar_style='info', description='Progress:', layout=Layout(height='25px', width='50%'),…"
      ]
     },
     "metadata": {},
     "output_type": "display_data"
    },
    {
     "name": "stdout",
     "output_type": "stream",
     "text": [
      "+----+-----------+\n",
      "|CODE|DESCRIPTION|\n",
      "+----+-----------+\n",
      "+----+-----------+"
     ]
    }
   ],
   "source": [
    "risk.createOrReplaceTempView(\"risk\")\n",
    "\n",
    "spark.sql(\"\"\" select * from risk where CODE is null \"\"\").show()"
   ]
  },
  {
   "cell_type": "markdown",
   "metadata": {},
   "source": [
    "## Description Analysis"
   ]
  },
  {
   "cell_type": "markdown",
   "metadata": {},
   "source": [
    "### Compare Entries"
   ]
  },
  {
   "cell_type": "code",
   "execution_count": 41,
   "metadata": {
    "scrolled": false
   },
   "outputs": [
    {
     "data": {
      "application/vnd.jupyter.widget-view+json": {
       "model_id": "d84be8b39b3947bab4226709fb2d6076",
       "version_major": 2,
       "version_minor": 0
      },
      "text/plain": [
       "VBox()"
      ]
     },
     "metadata": {},
     "output_type": "display_data"
    },
    {
     "data": {
      "application/vnd.jupyter.widget-view+json": {
       "model_id": "",
       "version_major": 2,
       "version_minor": 0
      },
      "text/plain": [
       "FloatProgress(value=0.0, bar_style='info', description='Progress:', layout=Layout(height='25px', width='50%'),…"
      ]
     },
     "metadata": {},
     "output_type": "display_data"
    },
    {
     "name": "stdout",
     "output_type": "stream",
     "text": [
      "+--------------------+--------------------+\n",
      "|    LONG_COMMON_NAME|         DESCRIPTION|\n",
      "+--------------------+--------------------+\n",
      "|Codfish IgE Ab [U...|Codfish IgE Ab in...|\n",
      "|Egg white IgE Ab ...|Egg white IgE Ab ...|\n",
      "|Common Ragweed Ig...|Common Ragweed Ig...|\n",
      "|Cat dander IgE Ab...|Cat dander IgE Ab...|\n",
      "|Soybean IgE Ab [U...|Soybean IgE Ab in...|\n",
      "|    Oral temperature|    Oral temperature|\n",
      "|Glomerular filtra...|Estimated Glomeru...|\n",
      "|          HIV status|          HIV status|\n",
      "|Wheat IgE Ab [Uni...|Wheat IgE Ab in S...|\n",
      "|Creatinine [Mass/...|          Creatinine|\n",
      "|Honey bee IgE Ab ...|Honey bee IgE Ab ...|\n",
      "|Carbon dioxide, t...|      Carbon Dioxide|\n",
      "|Calcium [Mass/vol...|             Calcium|\n",
      "|Percentage area a...|Percentage area a...|\n",
      "|History of Hospit...|History of Hospit...|\n",
      "|      Housing status|      Housing status|\n",
      "|DXA Radius and Ul...|DXA [T-score] Bon...|\n",
      "|            FEV1/FVC|           FEV1/​FVC|\n",
      "|Percentage area a...|Percentage area a...|\n",
      "|Cow milk IgE Ab [...|Cow milk IgE Ab i...|\n",
      "+--------------------+--------------------+\n",
      "only showing top 20 rows"
     ]
    }
   ],
   "source": [
    "tabr.createOrReplaceTempView(\"tabr\")\n",
    "risk.createOrReplaceTempView(\"risk\")\n",
    "\n",
    "spark.sql(f\"\"\"\n",
    "select t.{tdesc},\n",
    "r.DESCRIPTION\n",
    "from tabr t\n",
    "join risk r\n",
    "on t.{tcode} = r.CODE\n",
    "group by 1, 2\"\"\").show(truncate = True)"
   ]
  },
  {
   "cell_type": "markdown",
   "metadata": {},
   "source": [
    "### Perform Natural Language Processing"
   ]
  },
  {
   "cell_type": "code",
   "execution_count": 42,
   "metadata": {
    "scrolled": true
   },
   "outputs": [
    {
     "data": {
      "application/vnd.jupyter.widget-view+json": {
       "model_id": "c3df7df864034f718a2aa0dfde5d2d2d",
       "version_major": 2,
       "version_minor": 0
      },
      "text/plain": [
       "VBox()"
      ]
     },
     "metadata": {},
     "output_type": "display_data"
    },
    {
     "data": {
      "application/vnd.jupyter.widget-view+json": {
       "model_id": "",
       "version_major": 2,
       "version_minor": 0
      },
      "text/plain": [
       "FloatProgress(value=0.0, bar_style='info', description='Progress:', layout=Layout(height='25px', width='50%'),…"
      ]
     },
     "metadata": {},
     "output_type": "display_data"
    },
    {
     "name": "stdout",
     "output_type": "stream",
     "text": [
      "+-----+-------------+----------------+---------------+\n",
      "|ratio|partial_ratio|token_sort_ratio|token_set_ratio|\n",
      "+-----+-------------+----------------+---------------+\n",
      "|   75|           70|              75|            100|\n",
      "|   77|           72|              77|            100|\n",
      "|   80|           77|              80|            100|\n",
      "|   78|           73|              78|            100|\n",
      "|   75|           70|              75|            100|\n",
      "|  100|          100|             100|            100|\n",
      "|   32|           67|              32|             84|\n",
      "|  100|          100|             100|            100|\n",
      "|   74|           67|              74|            100|\n",
      "|   47|          100|              47|            100|\n",
      "|   77|           72|              77|            100|\n",
      "|   44|           93|              44|            100|\n",
      "|   38|          100|              38|            100|\n",
      "|   93|           98|              93|             94|\n",
      "|   89|           98|              89|            100|\n",
      "|  100|          100|             100|            100|\n",
      "|   76|           88|              76|            100|\n",
      "|   94|           88|              94|            100|\n",
      "|   92|          100|              92|            100|\n",
      "|   76|           71|              76|            100|\n",
      "+-----+-------------+----------------+---------------+\n",
      "only showing top 20 rows"
     ]
    }
   ],
   "source": [
    "from fuzzywuzzy import fuzz\n",
    "from pyspark.sql.functions import udf\n",
    "from pyspark.sql.types import IntegerType\n",
    "tabr.createOrReplaceTempView(\"tabr\")\n",
    "risk.createOrReplaceTempView(\"risk\")\n",
    "descriptions = spark.sql(f\"\"\"\n",
    "select t.{tdesc} as ref_description,\n",
    "r.DESCRIPTION\n",
    "from tabr t \n",
    "join risk r\n",
    "on t.{tcode} = r.CODE\n",
    "group by 1, 2\"\"\")\n",
    "\n",
    "ratio = udf(fuzz.ratio)\n",
    "partial_ratio = udf(fuzz.partial_ratio)\n",
    "token_sort_ratio = udf(fuzz.token_sort_ratio)\n",
    "token_set_ratio = udf(fuzz.token_set_ratio)\n",
    "\n",
    "descriptions = descriptions.withColumn(\"ratio\", \n",
    "                                       ratio(descriptions.ref_description, descriptions.DESCRIPTION))\n",
    "\n",
    "descriptions = descriptions.withColumn(\"partial_ratio\", \n",
    "                                       partial_ratio(descriptions.ref_description, descriptions.DESCRIPTION))\n",
    "\n",
    "descriptions = descriptions.withColumn(\"token_sort_ratio\", \n",
    "                                       ratio(descriptions.ref_description, descriptions.DESCRIPTION))\n",
    "\n",
    "descriptions = descriptions.withColumn(\"token_set_ratio\", \n",
    "                                       token_set_ratio(descriptions.ref_description, descriptions.DESCRIPTION))\n",
    "\n",
    "descriptions.select(\"ratio\", \"partial_ratio\", \"token_sort_ratio\", \"token_set_ratio\").show()"
   ]
  },
  {
   "cell_type": "markdown",
   "metadata": {},
   "source": [
    "### Display entries that do not match"
   ]
  },
  {
   "cell_type": "code",
   "execution_count": 43,
   "metadata": {},
   "outputs": [
    {
     "data": {
      "application/vnd.jupyter.widget-view+json": {
       "model_id": "0c42294409694d7a9b167fa4eef23bc9",
       "version_major": 2,
       "version_minor": 0
      },
      "text/plain": [
       "VBox()"
      ]
     },
     "metadata": {},
     "output_type": "display_data"
    },
    {
     "data": {
      "application/vnd.jupyter.widget-view+json": {
       "model_id": "",
       "version_major": 2,
       "version_minor": 0
      },
      "text/plain": [
       "FloatProgress(value=0.0, bar_style='info', description='Progress:', layout=Layout(height='25px', width='50%'),…"
      ]
     },
     "metadata": {},
     "output_type": "display_data"
    },
    {
     "name": "stdout",
     "output_type": "stream",
     "text": [
      "+-------------------------------------------------------------------+-----------------------------------+\n",
      "|ref_description                                                    |DESCRIPTION                        |\n",
      "+-------------------------------------------------------------------+-----------------------------------+\n",
      "|Cholesterol in LDL [Mass/volume] in Serum or Plasma by Direct assay|Low Density Lipoprotein Cholesterol|\n",
      "+-------------------------------------------------------------------+-----------------------------------+\n",
      "\n",
      "# of Unmatched Descriptions:  1"
     ]
    }
   ],
   "source": [
    "descriptions.createOrReplaceTempView(\"descriptions\")\n",
    "\n",
    "dnom=spark.sql(\"\"\"\n",
    "select ref_description, DESCRIPTION from descriptions\n",
    "where token_set_ratio < 70\"\"\")\n",
    "dnom.show(truncate=False)\n",
    "print(\"# of Unmatched Descriptions: \",dnom.count())"
   ]
  }
 ],
 "metadata": {
  "kernelspec": {
   "display_name": "PySpark",
   "language": "",
   "name": "pysparkkernel"
  },
  "language_info": {
   "codemirror_mode": {
    "name": "python",
    "version": 2
   },
   "mimetype": "text/x-python",
   "name": "pyspark",
   "pygments_lexer": "python2"
  }
 },
 "nbformat": 4,
 "nbformat_minor": 4
}
