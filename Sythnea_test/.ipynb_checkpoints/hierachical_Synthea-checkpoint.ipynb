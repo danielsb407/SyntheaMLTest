{
 "cells": [
  {
   "cell_type": "code",
   "execution_count": 1,
   "metadata": {},
   "outputs": [],
   "source": [
    "import pandas as pd\n",
    "import sys\n",
    "import numpy as np\n",
    "import matplotlib.pyplot as plt\n",
    "import seaborn as sns\n",
    "from scipy.cluster.hierarchy import dendrogram, linkage\n",
    "from sklearn.cluster import AgglomerativeClustering\n",
    "from sklearn.cluster import MeanShift\n",
    "import scipy.cluster.hierarchy as shc\n",
    "from sklearn import preprocessing\n",
    "from sklearn.preprocessing import StandardScaler\n",
    "from sklearn.decomposition import PCA\n",
    "from mpl_toolkits.mplot3d import Axes3D"
   ]
  },
  {
   "cell_type": "markdown",
   "metadata": {},
   "source": [
    "# Import/Format Data"
   ]
  },
  {
   "cell_type": "code",
   "execution_count": 2,
   "metadata": {},
   "outputs": [],
   "source": [
    "data=pd.read_csv('data/patients.csv')\n",
    "dataOG=pd.read_csv('data/patients.csv')\n",
    "dfo=pd.read_csv('data/observations.csv')\n",
    "data['BIRTHDATE']=data['BIRTHDATE'].str.replace('-', '')\n",
    "data['SSN']=data['SSN'].str.replace('-', '')\n",
    "data['BIRTHDATE']=data['BIRTHDATE'].astype(float)\n",
    "data['SSN']=data['SSN'].astype(float)\n",
    "data=data.drop(['Id','DEATHDATE','MAIDEN','DRIVERS','PASSPORT','PREFIX','FIRST','LAST','SUFFIX','BIRTHPLACE','ADDRESS','CITY','STATE','COUNTY'],axis=1)\n",
    "data['MARITAL']=data['MARITAL'].fillna(0)\n",
    "data['ZIP']=data['ZIP'].fillna(0)\n",
    "data['MARITAL']=data['MARITAL'].replace({'M':1})\n",
    "data['MARITAL']=data['MARITAL'].replace({'S':0})\n",
    "data['GENDER']=data['GENDER'].replace({'M':1})\n",
    "data['GENDER']=data['GENDER'].replace({'F':0})"
   ]
  },
  {
   "cell_type": "markdown",
   "metadata": {},
   "source": [
    "## Shrink Observation Dataframe"
   ]
  },
  {
   "cell_type": "code",
   "execution_count": 3,
   "metadata": {},
   "outputs": [
    {
     "data": {
      "text/plain": [
       "(299697, 8)"
      ]
     },
     "execution_count": 3,
     "metadata": {},
     "output_type": "execute_result"
    }
   ],
   "source": [
    "dfo.shape"
   ]
  },
  {
   "cell_type": "code",
   "execution_count": 4,
   "metadata": {
    "scrolled": true
   },
   "outputs": [
    {
     "data": {
      "text/html": [
       "<div>\n",
       "<style scoped>\n",
       "    .dataframe tbody tr th:only-of-type {\n",
       "        vertical-align: middle;\n",
       "    }\n",
       "\n",
       "    .dataframe tbody tr th {\n",
       "        vertical-align: top;\n",
       "    }\n",
       "\n",
       "    .dataframe thead th {\n",
       "        text-align: right;\n",
       "    }\n",
       "</style>\n",
       "<table border=\"1\" class=\"dataframe\">\n",
       "  <thead>\n",
       "    <tr style=\"text-align: right;\">\n",
       "      <th></th>\n",
       "      <th>DATE</th>\n",
       "      <th>PATIENT</th>\n",
       "      <th>ENCOUNTER</th>\n",
       "      <th>CODE</th>\n",
       "      <th>DESCRIPTION</th>\n",
       "      <th>VALUE</th>\n",
       "      <th>UNITS</th>\n",
       "      <th>TYPE</th>\n",
       "    </tr>\n",
       "  </thead>\n",
       "  <tbody>\n",
       "    <tr>\n",
       "      <th>135534</th>\n",
       "      <td>2012-09-22T10:26:36Z</td>\n",
       "      <td>69b60335-4bd9-4043-ad76-26b75d7dd40a</td>\n",
       "      <td>4ca1fa3d-0429-473f-9dd5-f942f071a137</td>\n",
       "      <td>8480-6</td>\n",
       "      <td>Systolic Blood Pressure</td>\n",
       "      <td>123.0</td>\n",
       "      <td>mm[Hg]</td>\n",
       "      <td>numeric</td>\n",
       "    </tr>\n",
       "    <tr>\n",
       "      <th>206667</th>\n",
       "      <td>2013-07-06T13:13:50Z</td>\n",
       "      <td>78a9a8d6-b3b2-47dc-b4a0-867abec7c78f</td>\n",
       "      <td>1c2ef8a9-7d30-4634-8806-8d0326238c24</td>\n",
       "      <td>39156-5</td>\n",
       "      <td>Body Mass Index</td>\n",
       "      <td>27.2</td>\n",
       "      <td>kg/m2</td>\n",
       "      <td>numeric</td>\n",
       "    </tr>\n",
       "    <tr>\n",
       "      <th>111336</th>\n",
       "      <td>1989-07-29T20:06:53Z</td>\n",
       "      <td>59cf17d9-6c13-4333-a1cb-cc5fdf63366d</td>\n",
       "      <td>7b05a570-1969-4cdf-91c5-c26b6d28b80a</td>\n",
       "      <td>8302-2</td>\n",
       "      <td>Body Height</td>\n",
       "      <td>186.8</td>\n",
       "      <td>cm</td>\n",
       "      <td>numeric</td>\n",
       "    </tr>\n",
       "    <tr>\n",
       "      <th>12201</th>\n",
       "      <td>2016-03-04T04:10:32Z</td>\n",
       "      <td>dadd331c-6143-41d1-bffb-d34b321ed157</td>\n",
       "      <td>40a0cbb2-de8f-48fe-9f77-1315c17cb4c3</td>\n",
       "      <td>9279-1</td>\n",
       "      <td>Respiratory rate</td>\n",
       "      <td>12.0</td>\n",
       "      <td>/min</td>\n",
       "      <td>numeric</td>\n",
       "    </tr>\n",
       "    <tr>\n",
       "      <th>146886</th>\n",
       "      <td>1999-02-25T02:48:14Z</td>\n",
       "      <td>60320709-0445-4112-ab79-1997cc6f3822</td>\n",
       "      <td>db7ef447-a886-4522-882c-14f29fae6853</td>\n",
       "      <td>39156-5</td>\n",
       "      <td>Body Mass Index</td>\n",
       "      <td>27.5</td>\n",
       "      <td>kg/m2</td>\n",
       "      <td>numeric</td>\n",
       "    </tr>\n",
       "  </tbody>\n",
       "</table>\n",
       "</div>"
      ],
      "text/plain": [
       "                        DATE                               PATIENT  \\\n",
       "135534  2012-09-22T10:26:36Z  69b60335-4bd9-4043-ad76-26b75d7dd40a   \n",
       "206667  2013-07-06T13:13:50Z  78a9a8d6-b3b2-47dc-b4a0-867abec7c78f   \n",
       "111336  1989-07-29T20:06:53Z  59cf17d9-6c13-4333-a1cb-cc5fdf63366d   \n",
       "12201   2016-03-04T04:10:32Z  dadd331c-6143-41d1-bffb-d34b321ed157   \n",
       "146886  1999-02-25T02:48:14Z  60320709-0445-4112-ab79-1997cc6f3822   \n",
       "\n",
       "                                   ENCOUNTER     CODE  \\\n",
       "135534  4ca1fa3d-0429-473f-9dd5-f942f071a137   8480-6   \n",
       "206667  1c2ef8a9-7d30-4634-8806-8d0326238c24  39156-5   \n",
       "111336  7b05a570-1969-4cdf-91c5-c26b6d28b80a   8302-2   \n",
       "12201   40a0cbb2-de8f-48fe-9f77-1315c17cb4c3   9279-1   \n",
       "146886  db7ef447-a886-4522-882c-14f29fae6853  39156-5   \n",
       "\n",
       "                    DESCRIPTION  VALUE   UNITS     TYPE  \n",
       "135534  Systolic Blood Pressure  123.0  mm[Hg]  numeric  \n",
       "206667          Body Mass Index   27.2   kg/m2  numeric  \n",
       "111336              Body Height  186.8      cm  numeric  \n",
       "12201          Respiratory rate   12.0    /min  numeric  \n",
       "146886          Body Mass Index   27.5   kg/m2  numeric  "
      ]
     },
     "execution_count": 4,
     "metadata": {},
     "output_type": "execute_result"
    }
   ],
   "source": [
    "dfobmi=dfo.drop(dfo.loc[dfo[\"DESCRIPTION\"]!=\"Body Mass Index\"].index)\n",
    "dfobw=dfo.drop(dfo.loc[dfo[\"DESCRIPTION\"]!=\"Body Weight\"].index)\n",
    "dfobh=dfo.drop(dfo.loc[dfo[\"DESCRIPTION\"]!=\"Body Height\"].index)\n",
    "dfodbp=dfo.drop(dfo.loc[dfo[\"DESCRIPTION\"]!=\"Diastolic Blood Pressure\"].index)\n",
    "dfosbp=dfo.drop(dfo.loc[dfo[\"DESCRIPTION\"]!=\"Systolic Blood Pressure\"].index)\n",
    "dfobhr=dfo.drop(dfo.loc[dfo[\"DESCRIPTION\"]!=\"Heart rate\"].index)\n",
    "dfobrr=dfo.drop(dfo.loc[dfo[\"DESCRIPTION\"]!=\"Respiratory rate\"].index)\n",
    "dfo=pd.concat([dfobmi,dfobw,dfobh,dfodbp,dfosbp,dfobhr,dfobrr])\n",
    "dfo=dfo.sample(frac=1,random_state=6)\n",
    "dfo.head()"
   ]
  },
  {
   "cell_type": "code",
   "execution_count": 5,
   "metadata": {},
   "outputs": [
    {
     "data": {
      "text/plain": [
       "(87585, 8)"
      ]
     },
     "execution_count": 5,
     "metadata": {},
     "output_type": "execute_result"
    }
   ],
   "source": [
    "dfo.shape"
   ]
  },
  {
   "cell_type": "markdown",
   "metadata": {},
   "source": [
    "# Multiprocesssing"
   ]
  },
  {
   "cell_type": "code",
   "execution_count": 13,
   "metadata": {},
   "outputs": [],
   "source": [
    "def popdf(dfo):\n",
    "    global dfm\n",
    "    global query\n",
    "    for index_dfo,row_dfo in list(query[[\"PATIENT\",\"DESCRIPTION\",\"VALUE\"]].iterrows()):\n",
    "        if row_dfo[\"DESCRIPTION\"] in columns:\n",
    "            dfm.loc[dfm.patient_id==row_dfo[\"PATIENT\"],row_dfo[\"DESCRIPTION\"]]= row_dfo[\"VALUE\"]\n",
    "    return(dfm)"
   ]
  },
  {
   "cell_type": "code",
   "execution_count": 14,
   "metadata": {},
   "outputs": [],
   "source": [
    "import multiprocessing as mp\n",
    "import tqdm\n",
    "from itertools import repeat\n",
    "from multiprocessing import Process, Manager\n",
    "from multiprocessing import Pool"
   ]
  },
  {
   "cell_type": "code",
   "execution_count": 15,
   "metadata": {},
   "outputs": [],
   "source": [
    "num_processes=mp.cpu_count()\n",
    "num_partitions=num_processes\n",
    "manager=Manager()\n",
    "d=manager.dict()\n",
    "df_split=np.array_split(dfo,num_partitions)\n",
    "pool=Pool(num_processes)\n",
    "shared_arg=repeat(d,num_partitions)"
   ]
  },
  {
   "cell_type": "markdown",
   "metadata": {},
   "source": [
    "# Set Up Observation Data Frame"
   ]
  },
  {
   "cell_type": "code",
   "execution_count": 16,
   "metadata": {},
   "outputs": [],
   "source": [
    "patient_ids=set()\n",
    "for patient_id in dfo[\"PATIENT\"]:\n",
    "    patient_ids.add(patient_id)\n",
    "patient_ids=list(patient_ids)\n",
    "patient_ids.sort()"
   ]
  },
  {
   "cell_type": "code",
   "execution_count": 17,
   "metadata": {
    "scrolled": true
   },
   "outputs": [
    {
     "data": {
      "text/html": [
       "<div>\n",
       "<style scoped>\n",
       "    .dataframe tbody tr th:only-of-type {\n",
       "        vertical-align: middle;\n",
       "    }\n",
       "\n",
       "    .dataframe tbody tr th {\n",
       "        vertical-align: top;\n",
       "    }\n",
       "\n",
       "    .dataframe thead th {\n",
       "        text-align: right;\n",
       "    }\n",
       "</style>\n",
       "<table border=\"1\" class=\"dataframe\">\n",
       "  <thead>\n",
       "    <tr style=\"text-align: right;\">\n",
       "      <th></th>\n",
       "      <th>patient_id</th>\n",
       "      <th>Body Height</th>\n",
       "      <th>Body Weight</th>\n",
       "      <th>Body Mass Index</th>\n",
       "      <th>Diastolic Blood Pressure</th>\n",
       "      <th>Systolic Blood Pressure</th>\n",
       "      <th>Heart rate</th>\n",
       "      <th>Respiratory rate</th>\n",
       "    </tr>\n",
       "  </thead>\n",
       "  <tbody>\n",
       "    <tr>\n",
       "      <th>0</th>\n",
       "      <td>00185faa-2760-4218-9bf5-db301acf8274</td>\n",
       "      <td>NaN</td>\n",
       "      <td>NaN</td>\n",
       "      <td>NaN</td>\n",
       "      <td>NaN</td>\n",
       "      <td>NaN</td>\n",
       "      <td>NaN</td>\n",
       "      <td>NaN</td>\n",
       "    </tr>\n",
       "    <tr>\n",
       "      <th>1</th>\n",
       "      <td>0042862c-9889-4a2e-b782-fac1e540ecb4</td>\n",
       "      <td>NaN</td>\n",
       "      <td>NaN</td>\n",
       "      <td>NaN</td>\n",
       "      <td>NaN</td>\n",
       "      <td>NaN</td>\n",
       "      <td>NaN</td>\n",
       "      <td>NaN</td>\n",
       "    </tr>\n",
       "    <tr>\n",
       "      <th>2</th>\n",
       "      <td>0047123f-12e7-486c-82df-53b3a450e365</td>\n",
       "      <td>NaN</td>\n",
       "      <td>NaN</td>\n",
       "      <td>NaN</td>\n",
       "      <td>NaN</td>\n",
       "      <td>NaN</td>\n",
       "      <td>NaN</td>\n",
       "      <td>NaN</td>\n",
       "    </tr>\n",
       "    <tr>\n",
       "      <th>3</th>\n",
       "      <td>010d4a3a-2316-45ed-ae15-16f01c611674</td>\n",
       "      <td>NaN</td>\n",
       "      <td>NaN</td>\n",
       "      <td>NaN</td>\n",
       "      <td>NaN</td>\n",
       "      <td>NaN</td>\n",
       "      <td>NaN</td>\n",
       "      <td>NaN</td>\n",
       "    </tr>\n",
       "    <tr>\n",
       "      <th>4</th>\n",
       "      <td>01207ecd-9dff-4754-8887-4652eda231e2</td>\n",
       "      <td>NaN</td>\n",
       "      <td>NaN</td>\n",
       "      <td>NaN</td>\n",
       "      <td>NaN</td>\n",
       "      <td>NaN</td>\n",
       "      <td>NaN</td>\n",
       "      <td>NaN</td>\n",
       "    </tr>\n",
       "  </tbody>\n",
       "</table>\n",
       "</div>"
      ],
      "text/plain": [
       "                             patient_id Body Height Body Weight  \\\n",
       "0  00185faa-2760-4218-9bf5-db301acf8274         NaN         NaN   \n",
       "1  0042862c-9889-4a2e-b782-fac1e540ecb4         NaN         NaN   \n",
       "2  0047123f-12e7-486c-82df-53b3a450e365         NaN         NaN   \n",
       "3  010d4a3a-2316-45ed-ae15-16f01c611674         NaN         NaN   \n",
       "4  01207ecd-9dff-4754-8887-4652eda231e2         NaN         NaN   \n",
       "\n",
       "  Body Mass Index Diastolic Blood Pressure Systolic Blood Pressure Heart rate  \\\n",
       "0             NaN                      NaN                     NaN        NaN   \n",
       "1             NaN                      NaN                     NaN        NaN   \n",
       "2             NaN                      NaN                     NaN        NaN   \n",
       "3             NaN                      NaN                     NaN        NaN   \n",
       "4             NaN                      NaN                     NaN        NaN   \n",
       "\n",
       "  Respiratory rate  \n",
       "0              NaN  \n",
       "1              NaN  \n",
       "2              NaN  \n",
       "3              NaN  \n",
       "4              NaN  "
      ]
     },
     "execution_count": 17,
     "metadata": {},
     "output_type": "execute_result"
    }
   ],
   "source": [
    "columns=[\"patient_id\",\"Body Height\",\"Body Weight\", \"Body Mass Index\",\"Diastolic Blood Pressure\",\n",
    "         \"Systolic Blood Pressure\",\"Heart rate\",\"Respiratory rate\"]\n",
    "dfm=pd.DataFrame(columns=columns)\n",
    "dfm[\"patient_id\"]=patient_ids\n",
    "dfm.head()"
   ]
  },
  {
   "cell_type": "markdown",
   "metadata": {},
   "source": [
    "## Populate Dataframe"
   ]
  },
  {
   "cell_type": "code",
   "execution_count": 18,
   "metadata": {},
   "outputs": [],
   "source": [
    "query=pd.DataFrame()\n",
    "for column in columns[1:]:\n",
    "    query=pd.concat([query,dfo.query(f\"DESCRIPTION=='{column}'\")])"
   ]
  },
  {
   "cell_type": "code",
   "execution_count": null,
   "metadata": {},
   "outputs": [],
   "source": [
    "for _ in tqdm.tqdm(pool.map(popdf, zip(shared_arg,df_split)),total=num_partitions):\n",
    "    pass"
   ]
  },
  {
   "cell_type": "code",
   "execution_count": null,
   "metadata": {
    "scrolled": false
   },
   "outputs": [],
   "source": [
    "dfm.head()"
   ]
  },
  {
   "cell_type": "markdown",
   "metadata": {},
   "source": [
    "# Merge Patient/observation Dataframe"
   ]
  },
  {
   "cell_type": "code",
   "execution_count": null,
   "metadata": {
    "scrolled": true
   },
   "outputs": [],
   "source": [
    "data.head()"
   ]
  },
  {
   "cell_type": "code",
   "execution_count": null,
   "metadata": {
    "scrolled": true
   },
   "outputs": [],
   "source": [
    "df=pd.concat([data,dfm],axis=1)\n",
    "df=df.drop(['patient_id','SSN','LAT','LON'],axis=1)\n",
    "df.head()"
   ]
  },
  {
   "cell_type": "code",
   "execution_count": null,
   "metadata": {
    "scrolled": true
   },
   "outputs": [],
   "source": [
    "dfcopy=df.copy()\n",
    "dfcopy=dfcopy.dropna()\n",
    "dfcopy=dfcopy.sample(frac=1, random_state=7896)\n",
    "dfcopy.head()"
   ]
  },
  {
   "cell_type": "markdown",
   "metadata": {},
   "source": [
    "## Encode Categories"
   ]
  },
  {
   "cell_type": "code",
   "execution_count": null,
   "metadata": {},
   "outputs": [],
   "source": [
    "enc = preprocessing.OrdinalEncoder()\n",
    "X=df.iloc[:,2:4].values\n",
    "enc.fit(X)"
   ]
  },
  {
   "cell_type": "code",
   "execution_count": null,
   "metadata": {},
   "outputs": [],
   "source": [
    "X=enc.transform(X)\n",
    "cols=['RACE','ETHNICITY']\n",
    "df[cols]=X"
   ]
  },
  {
   "cell_type": "code",
   "execution_count": null,
   "metadata": {
    "scrolled": false
   },
   "outputs": [],
   "source": [
    "df=df.dropna()\n",
    "df=df.sample(frac=1, random_state=7896)\n",
    "df.head()"
   ]
  },
  {
   "cell_type": "markdown",
   "metadata": {},
   "source": [
    "# Hierachical Clustering"
   ]
  },
  {
   "cell_type": "markdown",
   "metadata": {},
   "source": [
    "## Dendrogram"
   ]
  },
  {
   "cell_type": "code",
   "execution_count": null,
   "metadata": {
    "scrolled": false
   },
   "outputs": [],
   "source": [
    "plt.figure(figsize=(10, 7))\n",
    "plt.title(\"Patients Dendrograms\")\n",
    "dend = shc.dendrogram(shc.linkage(df, method='ward'))"
   ]
  },
  {
   "cell_type": "markdown",
   "metadata": {},
   "source": [
    "## Agglomerative Clustering"
   ]
  },
  {
   "cell_type": "code",
   "execution_count": null,
   "metadata": {
    "scrolled": true
   },
   "outputs": [],
   "source": [
    "cluster= AgglomerativeClustering(n_clusters=3, affinity='euclidean',linkage='ward')\n",
    "cluster.fit_predict(df)\n",
    "print(cluster.labels_)"
   ]
  },
  {
   "cell_type": "markdown",
   "metadata": {},
   "source": [
    "## Mean Shift"
   ]
  },
  {
   "cell_type": "code",
   "execution_count": null,
   "metadata": {},
   "outputs": [],
   "source": [
    "clf=MeanShift()\n",
    "clf.fit(df)\n",
    "labels=clf.labels_\n",
    "cluster_centers=clf.cluster_centers_\n",
    "dfcopy['cluster_group']=np.nan\n",
    "df['cluster_group']=np.nan"
   ]
  },
  {
   "cell_type": "code",
   "execution_count": null,
   "metadata": {},
   "outputs": [],
   "source": [
    "for i in range(len(df)):\n",
    "    dfcopy['cluster_group'].iloc[i]=labels[i]\n",
    "    df['cluster_group'].iloc[i]=labels[i]\n",
    "n_clusters_ =len(np.unique(labels))\n",
    "print(n_clusters_)"
   ]
  },
  {
   "cell_type": "code",
   "execution_count": null,
   "metadata": {
    "scrolled": false
   },
   "outputs": [],
   "source": [
    "dfcopy.head()"
   ]
  },
  {
   "cell_type": "markdown",
   "metadata": {},
   "source": [
    "### Analyzing Groups"
   ]
  },
  {
   "cell_type": "code",
   "execution_count": null,
   "metadata": {},
   "outputs": [],
   "source": [
    "temp0=dfcopy[dfcopy['cluster_group']==0]\n",
    "len(temp0)"
   ]
  },
  {
   "cell_type": "code",
   "execution_count": null,
   "metadata": {},
   "outputs": [],
   "source": [
    "temp1=dfcopy[dfcopy['cluster_group']==1]\n",
    "len(temp1)"
   ]
  },
  {
   "cell_type": "code",
   "execution_count": null,
   "metadata": {},
   "outputs": [],
   "source": [
    "temp2=dfcopy[dfcopy['cluster_group']==2]\n",
    "len(temp2)"
   ]
  },
  {
   "cell_type": "code",
   "execution_count": null,
   "metadata": {
    "scrolled": false
   },
   "outputs": [],
   "source": [
    "temp3=dfcopy[dfcopy['cluster_group']==3]\n",
    "len(temp3)"
   ]
  },
  {
   "cell_type": "markdown",
   "metadata": {},
   "source": [
    "#### Looking at Outlier Group"
   ]
  },
  {
   "cell_type": "code",
   "execution_count": null,
   "metadata": {
    "scrolled": true
   },
   "outputs": [],
   "source": [
    "temp3.head(7)"
   ]
  },
  {
   "cell_type": "markdown",
   "metadata": {},
   "source": [
    "# PCA for Data Visualization"
   ]
  },
  {
   "cell_type": "code",
   "execution_count": null,
   "metadata": {
    "scrolled": true
   },
   "outputs": [],
   "source": [
    "pca=PCA(n_components=3)\n",
    "principalComponents=pca.fit_transform(df)\n",
    "principalDF = pd.DataFrame(data=principalComponents, columns =['Principal Component 1', 'Principal Component 2','Principal Component 3'])\n",
    "principalDF.head()"
   ]
  },
  {
   "cell_type": "code",
   "execution_count": null,
   "metadata": {
    "scrolled": false
   },
   "outputs": [],
   "source": [
    "finalDF=pd.concat([principalDF, df[['cluster_group']]],axis=1)\n",
    "finalDF.head()"
   ]
  },
  {
   "cell_type": "markdown",
   "metadata": {},
   "source": [
    "### 2D"
   ]
  },
  {
   "cell_type": "code",
   "execution_count": null,
   "metadata": {
    "scrolled": true
   },
   "outputs": [],
   "source": [
    "fig = plt.figure(figsize = (8,8))\n",
    "ax = fig.add_subplot(1,1,1) \n",
    "ax.set_xlabel('Principal Component 1', fontsize = 15)\n",
    "ax.set_ylabel('Principal Component 2', fontsize = 15)\n",
    "ax.set_title('2 Component PCA', fontsize = 20)\n",
    "\n",
    "\n",
    "targets = [0,1,2,3]\n",
    "colors = ['r', 'g', 'b','y']\n",
    "for target, color in zip(targets,colors):\n",
    "    indicesToKeep = finalDF['cluster_group'] == target\n",
    "    ax.scatter(finalDF.loc[indicesToKeep, 'Principal Component 1']\n",
    "               , finalDF.loc[indicesToKeep, 'Principal Component 2']\n",
    "               , c = color\n",
    "               , s = 50)\n",
    "ax.legend(targets)\n",
    "ax.grid()"
   ]
  },
  {
   "cell_type": "markdown",
   "metadata": {},
   "source": [
    "### 3D"
   ]
  },
  {
   "cell_type": "code",
   "execution_count": null,
   "metadata": {
    "scrolled": true
   },
   "outputs": [],
   "source": [
    "fig = plt.figure(figsize = (15,15))\n",
    "ax = fig.add_subplot(111,projection='3d') \n",
    "ax.set_xlabel('Principal Component 1', fontsize = 15)\n",
    "ax.set_ylabel('Principal Component 2', fontsize = 15)\n",
    "ax.set_zlabel('Principal Component 3', fontsize = 15)\n",
    "ax.set_title('3 Component PCA', fontsize = 20)\n",
    "\n",
    "\n",
    "targets = [0,1,2,3]\n",
    "colors = ['r', 'g', 'b','y']\n",
    "for target, color in zip(targets,colors):\n",
    "    indicesToKeep = finalDF['cluster_group'] == target\n",
    "    ax.scatter(finalDF.loc[indicesToKeep, 'Principal Component 1']\n",
    "               , finalDF.loc[indicesToKeep, 'Principal Component 2']\n",
    "               , finalDF.loc[indicesToKeep, 'Principal Component 3']\n",
    "               , c = color\n",
    "               , s = 50)\n",
    "ax.legend(targets)\n",
    "ax.grid()"
   ]
  }
 ],
 "metadata": {
  "kernelspec": {
   "display_name": "Python 3",
   "language": "python",
   "name": "python3"
  },
  "language_info": {
   "codemirror_mode": {
    "name": "ipython",
    "version": 3
   },
   "file_extension": ".py",
   "mimetype": "text/x-python",
   "name": "python",
   "nbconvert_exporter": "python",
   "pygments_lexer": "ipython3",
   "version": "3.6.9"
  }
 },
 "nbformat": 4,
 "nbformat_minor": 4
}
