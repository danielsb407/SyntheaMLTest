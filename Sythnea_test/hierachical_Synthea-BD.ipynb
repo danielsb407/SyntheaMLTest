{
 "cells": [
  {
   "cell_type": "code",
   "execution_count": 52,
   "metadata": {},
   "outputs": [],
   "source": [
    "import pandas as pd\n",
    "import sys\n",
    "import numpy as np\n",
    "import matplotlib.pyplot as plt\n",
    "import seaborn as sns\n",
    "from scipy.cluster.hierarchy import dendrogram, linkage\n",
    "from sklearn.cluster import AgglomerativeClustering\n",
    "from sklearn.cluster import MeanShift\n",
    "import scipy.cluster.hierarchy as shc\n",
    "from sklearn import preprocessing\n",
    "from sklearn.preprocessing import StandardScaler\n",
    "from sklearn.decomposition import PCA\n",
    "from mpl_toolkits.mplot3d import Axes3D\n",
    "import boto3\n",
    "import s3fs"
   ]
  },
  {
   "cell_type": "code",
   "execution_count": 53,
   "metadata": {},
   "outputs": [],
   "source": [
    "client=boto3.client('s3')"
   ]
  },
  {
   "cell_type": "markdown",
   "metadata": {},
   "source": [
    "# Import/Format Data"
   ]
  },
  {
   "cell_type": "code",
   "execution_count": 54,
   "metadata": {
    "scrolled": true
   },
   "outputs": [
    {
     "data": {
      "text/html": [
       "<div>\n",
       "<style scoped>\n",
       "    .dataframe tbody tr th:only-of-type {\n",
       "        vertical-align: middle;\n",
       "    }\n",
       "\n",
       "    .dataframe tbody tr th {\n",
       "        vertical-align: top;\n",
       "    }\n",
       "\n",
       "    .dataframe thead th {\n",
       "        text-align: right;\n",
       "    }\n",
       "</style>\n",
       "<table border=\"1\" class=\"dataframe\">\n",
       "  <thead>\n",
       "    <tr style=\"text-align: right;\">\n",
       "      <th></th>\n",
       "      <th>BIRTHDATE</th>\n",
       "      <th>MARITAL</th>\n",
       "      <th>RACE</th>\n",
       "      <th>ETHNICITY</th>\n",
       "      <th>GENDER</th>\n",
       "    </tr>\n",
       "  </thead>\n",
       "  <tbody>\n",
       "    <tr>\n",
       "      <th>0</th>\n",
       "      <td>19960726.0</td>\n",
       "      <td>0</td>\n",
       "      <td>white</td>\n",
       "      <td>irish</td>\n",
       "      <td>0</td>\n",
       "    </tr>\n",
       "    <tr>\n",
       "      <th>1</th>\n",
       "      <td>19960924.0</td>\n",
       "      <td>0</td>\n",
       "      <td>white</td>\n",
       "      <td>french_canadian</td>\n",
       "      <td>0</td>\n",
       "    </tr>\n",
       "    <tr>\n",
       "      <th>2</th>\n",
       "      <td>19440901.0</td>\n",
       "      <td>1</td>\n",
       "      <td>white</td>\n",
       "      <td>irish</td>\n",
       "      <td>1</td>\n",
       "    </tr>\n",
       "    <tr>\n",
       "      <th>3</th>\n",
       "      <td>19640514.0</td>\n",
       "      <td>1</td>\n",
       "      <td>white</td>\n",
       "      <td>french</td>\n",
       "      <td>0</td>\n",
       "    </tr>\n",
       "    <tr>\n",
       "      <th>4</th>\n",
       "      <td>19460305.0</td>\n",
       "      <td>0</td>\n",
       "      <td>white</td>\n",
       "      <td>irish</td>\n",
       "      <td>0</td>\n",
       "    </tr>\n",
       "  </tbody>\n",
       "</table>\n",
       "</div>"
      ],
      "text/plain": [
       "    BIRTHDATE MARITAL   RACE        ETHNICITY GENDER\n",
       "0  19960726.0       0  white            irish      0\n",
       "1  19960924.0       0  white  french_canadian      0\n",
       "2  19440901.0       1  white            irish      1\n",
       "3  19640514.0       1  white           french      0\n",
       "4  19460305.0       0  white            irish      0"
      ]
     },
     "execution_count": 54,
     "metadata": {},
     "output_type": "execute_result"
    }
   ],
   "source": [
    "data=pd.read_csv('s3://ms-syntheamass-1m-mldata/syntheamassCSV/output_1/csv/patients.csv')\n",
    "dataOG=pd.read_csv('s3://ms-syntheamass-1m-mldata/syntheamassCSV/output_1/csv/patients.csv')\n",
    "dfo=pd.read_csv('s3://ms-syntheamass-1m-mldata/syntheamassCSV/output_1/csv/observations.csv')\n",
    "data['BIRTHDATE']=data['BIRTHDATE'].str.replace('-', '')\n",
    "data['BIRTHDATE']=data['BIRTHDATE'].astype(float)\n",
    "data=data.drop(['ID','DEATHDATE','MAIDEN','SSN','DRIVERS','PASSPORT','PREFIX','FIRST','LAST','SUFFIX','BIRTHPLACE','ADDRESS'],axis=1)\n",
    "data['MARITAL']=data['MARITAL'].fillna(0)\n",
    "data['MARITAL']=data['MARITAL'].replace({'M':1})\n",
    "data['MARITAL']=data['MARITAL'].replace({'S':0})\n",
    "data['GENDER']=data['GENDER'].replace({'M':1})\n",
    "data['GENDER']=data['GENDER'].replace({'F':0})\n",
    "data.head()"
   ]
  },
  {
   "cell_type": "markdown",
   "metadata": {},
   "source": [
    "## Shrink Observation dataframe"
   ]
  },
  {
   "cell_type": "code",
   "execution_count": 55,
   "metadata": {},
   "outputs": [
    {
     "data": {
      "text/html": [
       "<div>\n",
       "<style scoped>\n",
       "    .dataframe tbody tr th:only-of-type {\n",
       "        vertical-align: middle;\n",
       "    }\n",
       "\n",
       "    .dataframe tbody tr th {\n",
       "        vertical-align: top;\n",
       "    }\n",
       "\n",
       "    .dataframe thead th {\n",
       "        text-align: right;\n",
       "    }\n",
       "</style>\n",
       "<table border=\"1\" class=\"dataframe\">\n",
       "  <thead>\n",
       "    <tr style=\"text-align: right;\">\n",
       "      <th></th>\n",
       "      <th>DATE</th>\n",
       "      <th>PATIENT</th>\n",
       "      <th>ENCOUNTER</th>\n",
       "      <th>CODE</th>\n",
       "      <th>DESCRIPTION</th>\n",
       "      <th>VALUE</th>\n",
       "      <th>UNITS</th>\n",
       "    </tr>\n",
       "  </thead>\n",
       "  <tbody>\n",
       "    <tr>\n",
       "      <th>0</th>\n",
       "      <td>2011-07-02</td>\n",
       "      <td>33f33990-ae8b-4be8-938f-e47ad473abfe</td>\n",
       "      <td>673daa98-67e9-4e80-be46-a0b547533653</td>\n",
       "      <td>8302-2</td>\n",
       "      <td>Body Height</td>\n",
       "      <td>175.76</td>\n",
       "      <td>cm</td>\n",
       "    </tr>\n",
       "    <tr>\n",
       "      <th>1</th>\n",
       "      <td>2011-03-12</td>\n",
       "      <td>36d131ee-dd5b-4acb-acbe-19961c32c099</td>\n",
       "      <td>bac018de-114a-481d-b4f9-87980d7ef8b8</td>\n",
       "      <td>8302-2</td>\n",
       "      <td>Body Height</td>\n",
       "      <td>167.28</td>\n",
       "      <td>cm</td>\n",
       "    </tr>\n",
       "    <tr>\n",
       "      <th>2</th>\n",
       "      <td>2011-07-02</td>\n",
       "      <td>33f33990-ae8b-4be8-938f-e47ad473abfe</td>\n",
       "      <td>673daa98-67e9-4e80-be46-a0b547533653</td>\n",
       "      <td>29463-7</td>\n",
       "      <td>Body Weight</td>\n",
       "      <td>56.51</td>\n",
       "      <td>kg</td>\n",
       "    </tr>\n",
       "    <tr>\n",
       "      <th>3</th>\n",
       "      <td>2011-03-12</td>\n",
       "      <td>36d131ee-dd5b-4acb-acbe-19961c32c099</td>\n",
       "      <td>bac018de-114a-481d-b4f9-87980d7ef8b8</td>\n",
       "      <td>29463-7</td>\n",
       "      <td>Body Weight</td>\n",
       "      <td>63.35</td>\n",
       "      <td>kg</td>\n",
       "    </tr>\n",
       "    <tr>\n",
       "      <th>4</th>\n",
       "      <td>2011-07-02</td>\n",
       "      <td>33f33990-ae8b-4be8-938f-e47ad473abfe</td>\n",
       "      <td>673daa98-67e9-4e80-be46-a0b547533653</td>\n",
       "      <td>39156-5</td>\n",
       "      <td>Body Mass Index</td>\n",
       "      <td>18.29</td>\n",
       "      <td>kg/m2</td>\n",
       "    </tr>\n",
       "  </tbody>\n",
       "</table>\n",
       "</div>"
      ],
      "text/plain": [
       "         DATE                               PATIENT  \\\n",
       "0  2011-07-02  33f33990-ae8b-4be8-938f-e47ad473abfe   \n",
       "1  2011-03-12  36d131ee-dd5b-4acb-acbe-19961c32c099   \n",
       "2  2011-07-02  33f33990-ae8b-4be8-938f-e47ad473abfe   \n",
       "3  2011-03-12  36d131ee-dd5b-4acb-acbe-19961c32c099   \n",
       "4  2011-07-02  33f33990-ae8b-4be8-938f-e47ad473abfe   \n",
       "\n",
       "                              ENCOUNTER     CODE      DESCRIPTION   VALUE  \\\n",
       "0  673daa98-67e9-4e80-be46-a0b547533653   8302-2      Body Height  175.76   \n",
       "1  bac018de-114a-481d-b4f9-87980d7ef8b8   8302-2      Body Height  167.28   \n",
       "2  673daa98-67e9-4e80-be46-a0b547533653  29463-7      Body Weight   56.51   \n",
       "3  bac018de-114a-481d-b4f9-87980d7ef8b8  29463-7      Body Weight   63.35   \n",
       "4  673daa98-67e9-4e80-be46-a0b547533653  39156-5  Body Mass Index   18.29   \n",
       "\n",
       "   UNITS  \n",
       "0     cm  \n",
       "1     cm  \n",
       "2     kg  \n",
       "3     kg  \n",
       "4  kg/m2  "
      ]
     },
     "execution_count": 55,
     "metadata": {},
     "output_type": "execute_result"
    }
   ],
   "source": [
    "dfo.head()"
   ]
  },
  {
   "cell_type": "code",
   "execution_count": 56,
   "metadata": {},
   "outputs": [
    {
     "data": {
      "text/plain": [
       "(5383318, 7)"
      ]
     },
     "execution_count": 56,
     "metadata": {},
     "output_type": "execute_result"
    }
   ],
   "source": [
    "dfo.shape"
   ]
  },
  {
   "cell_type": "code",
   "execution_count": 57,
   "metadata": {
    "scrolled": true
   },
   "outputs": [
    {
     "data": {
      "text/html": [
       "<div>\n",
       "<style scoped>\n",
       "    .dataframe tbody tr th:only-of-type {\n",
       "        vertical-align: middle;\n",
       "    }\n",
       "\n",
       "    .dataframe tbody tr th {\n",
       "        vertical-align: top;\n",
       "    }\n",
       "\n",
       "    .dataframe thead th {\n",
       "        text-align: right;\n",
       "    }\n",
       "</style>\n",
       "<table border=\"1\" class=\"dataframe\">\n",
       "  <thead>\n",
       "    <tr style=\"text-align: right;\">\n",
       "      <th></th>\n",
       "      <th>DATE</th>\n",
       "      <th>PATIENT</th>\n",
       "      <th>ENCOUNTER</th>\n",
       "      <th>CODE</th>\n",
       "      <th>DESCRIPTION</th>\n",
       "      <th>VALUE</th>\n",
       "      <th>UNITS</th>\n",
       "    </tr>\n",
       "  </thead>\n",
       "  <tbody>\n",
       "    <tr>\n",
       "      <th>4731049</th>\n",
       "      <td>2011-06-28</td>\n",
       "      <td>a5a2180e-9269-4917-a930-2aee0661dedb</td>\n",
       "      <td>89a4ac7a-ea1a-4d5e-8b6d-87c0c60194b6</td>\n",
       "      <td>8302-2</td>\n",
       "      <td>Body Height</td>\n",
       "      <td>132.35</td>\n",
       "      <td>cm</td>\n",
       "    </tr>\n",
       "    <tr>\n",
       "      <th>2258683</th>\n",
       "      <td>2013-03-18</td>\n",
       "      <td>84fc7b80-4b98-4b04-afe9-f55cff80863c</td>\n",
       "      <td>a7a2f4c6-198e-4528-84b2-c32c4cdab36c</td>\n",
       "      <td>8462-4</td>\n",
       "      <td>Diastolic Blood Pressure</td>\n",
       "      <td>113.0</td>\n",
       "      <td>mmHg</td>\n",
       "    </tr>\n",
       "    <tr>\n",
       "      <th>1178322</th>\n",
       "      <td>2014-10-22</td>\n",
       "      <td>132b6961-28b0-41d3-972e-259079e9580d</td>\n",
       "      <td>09942dd6-197b-4e5e-aa3d-923d22c6be1e</td>\n",
       "      <td>8462-4</td>\n",
       "      <td>Diastolic Blood Pressure</td>\n",
       "      <td>120.0</td>\n",
       "      <td>mmHg</td>\n",
       "    </tr>\n",
       "    <tr>\n",
       "      <th>1048865</th>\n",
       "      <td>2011-10-17</td>\n",
       "      <td>ba347cb1-06de-4844-ac94-0a5771976789</td>\n",
       "      <td>2ae819ae-c6cd-4862-8660-de16d7e83f0e</td>\n",
       "      <td>39156-5</td>\n",
       "      <td>Body Mass Index</td>\n",
       "      <td>33.39</td>\n",
       "      <td>kg/m2</td>\n",
       "    </tr>\n",
       "    <tr>\n",
       "      <th>2862323</th>\n",
       "      <td>2013-03-15</td>\n",
       "      <td>0ab01083-b19c-47f6-a5c5-537bbbbc4e5e</td>\n",
       "      <td>de25b4c3-bef8-4bcd-b5e0-99eb5028e33c</td>\n",
       "      <td>8302-2</td>\n",
       "      <td>Body Height</td>\n",
       "      <td>151.11</td>\n",
       "      <td>cm</td>\n",
       "    </tr>\n",
       "  </tbody>\n",
       "</table>\n",
       "</div>"
      ],
      "text/plain": [
       "               DATE                               PATIENT  \\\n",
       "4731049  2011-06-28  a5a2180e-9269-4917-a930-2aee0661dedb   \n",
       "2258683  2013-03-18  84fc7b80-4b98-4b04-afe9-f55cff80863c   \n",
       "1178322  2014-10-22  132b6961-28b0-41d3-972e-259079e9580d   \n",
       "1048865  2011-10-17  ba347cb1-06de-4844-ac94-0a5771976789   \n",
       "2862323  2013-03-15  0ab01083-b19c-47f6-a5c5-537bbbbc4e5e   \n",
       "\n",
       "                                    ENCOUNTER     CODE  \\\n",
       "4731049  89a4ac7a-ea1a-4d5e-8b6d-87c0c60194b6   8302-2   \n",
       "2258683  a7a2f4c6-198e-4528-84b2-c32c4cdab36c   8462-4   \n",
       "1178322  09942dd6-197b-4e5e-aa3d-923d22c6be1e   8462-4   \n",
       "1048865  2ae819ae-c6cd-4862-8660-de16d7e83f0e  39156-5   \n",
       "2862323  de25b4c3-bef8-4bcd-b5e0-99eb5028e33c   8302-2   \n",
       "\n",
       "                      DESCRIPTION   VALUE  UNITS  \n",
       "4731049               Body Height  132.35     cm  \n",
       "2258683  Diastolic Blood Pressure   113.0   mmHg  \n",
       "1178322  Diastolic Blood Pressure   120.0   mmHg  \n",
       "1048865           Body Mass Index   33.39  kg/m2  \n",
       "2862323               Body Height  151.11     cm  "
      ]
     },
     "execution_count": 57,
     "metadata": {},
     "output_type": "execute_result"
    }
   ],
   "source": [
    "dfobmi=dfo.drop(dfo.loc[dfo[\"DESCRIPTION\"]!=\"Body Mass Index\"].index)\n",
    "dfobw=dfo.drop(dfo.loc[dfo[\"DESCRIPTION\"]!=\"Body Weight\"].index)\n",
    "dfobh=dfo.drop(dfo.loc[dfo[\"DESCRIPTION\"]!=\"Body Height\"].index)\n",
    "dfodbp=dfo.drop(dfo.loc[dfo[\"DESCRIPTION\"]!=\"Diastolic Blood Pressure\"].index)\n",
    "dfosbp=dfo.drop(dfo.loc[dfo[\"DESCRIPTION\"]!=\"Systolic Blood Pressure\"].index)\n",
    "dfobhr=dfo.drop(dfo.loc[dfo[\"DESCRIPTION\"]!=\"Heart rate\"].index)\n",
    "dfobrr=dfo.drop(dfo.loc[dfo[\"DESCRIPTION\"]!=\"Respiratory rate\"].index)\n",
    "dfo=pd.concat([dfobmi,dfobw,dfobh,dfodbp,dfosbp,dfobhr,dfobrr])\n",
    "dfo=dfo.sample(frac=1,random_state=6)\n",
    "dfo.head()"
   ]
  },
  {
   "cell_type": "code",
   "execution_count": 58,
   "metadata": {},
   "outputs": [
    {
     "data": {
      "text/plain": [
       "(2872837, 7)"
      ]
     },
     "execution_count": 58,
     "metadata": {},
     "output_type": "execute_result"
    }
   ],
   "source": [
    "dfo.shape"
   ]
  },
  {
   "cell_type": "markdown",
   "metadata": {},
   "source": [
    "# Set Up Observation Data Frame"
   ]
  },
  {
   "cell_type": "code",
   "execution_count": 59,
   "metadata": {},
   "outputs": [],
   "source": [
    "patient_ids=set()\n",
    "for patient_id in dfo[\"PATIENT\"]:\n",
    "    patient_ids.add(patient_id)\n",
    "patient_ids=list(patient_ids)\n",
    "patient_ids.sort()"
   ]
  },
  {
   "cell_type": "code",
   "execution_count": 60,
   "metadata": {
    "scrolled": true
   },
   "outputs": [
    {
     "data": {
      "text/html": [
       "<div>\n",
       "<style scoped>\n",
       "    .dataframe tbody tr th:only-of-type {\n",
       "        vertical-align: middle;\n",
       "    }\n",
       "\n",
       "    .dataframe tbody tr th {\n",
       "        vertical-align: top;\n",
       "    }\n",
       "\n",
       "    .dataframe thead th {\n",
       "        text-align: right;\n",
       "    }\n",
       "</style>\n",
       "<table border=\"1\" class=\"dataframe\">\n",
       "  <thead>\n",
       "    <tr style=\"text-align: right;\">\n",
       "      <th></th>\n",
       "      <th>patient_id</th>\n",
       "      <th>Body Height</th>\n",
       "      <th>Body Weight</th>\n",
       "      <th>Body Mass Index</th>\n",
       "      <th>Diastolic Blood Pressure</th>\n",
       "      <th>Systolic Blood Pressure</th>\n",
       "      <th>Heart rate</th>\n",
       "      <th>Respiratory rate</th>\n",
       "    </tr>\n",
       "  </thead>\n",
       "  <tbody>\n",
       "    <tr>\n",
       "      <th>0</th>\n",
       "      <td>00004593-87ae-40ac-bfec-7e2dd37b690f</td>\n",
       "      <td>NaN</td>\n",
       "      <td>NaN</td>\n",
       "      <td>NaN</td>\n",
       "      <td>NaN</td>\n",
       "      <td>NaN</td>\n",
       "      <td>NaN</td>\n",
       "      <td>NaN</td>\n",
       "    </tr>\n",
       "    <tr>\n",
       "      <th>1</th>\n",
       "      <td>00005a31-23bc-46dc-9dcd-13337680b90e</td>\n",
       "      <td>NaN</td>\n",
       "      <td>NaN</td>\n",
       "      <td>NaN</td>\n",
       "      <td>NaN</td>\n",
       "      <td>NaN</td>\n",
       "      <td>NaN</td>\n",
       "      <td>NaN</td>\n",
       "    </tr>\n",
       "    <tr>\n",
       "      <th>2</th>\n",
       "      <td>000120e2-63aa-404c-8842-d6ddc96f6dec</td>\n",
       "      <td>NaN</td>\n",
       "      <td>NaN</td>\n",
       "      <td>NaN</td>\n",
       "      <td>NaN</td>\n",
       "      <td>NaN</td>\n",
       "      <td>NaN</td>\n",
       "      <td>NaN</td>\n",
       "    </tr>\n",
       "    <tr>\n",
       "      <th>3</th>\n",
       "      <td>0002bd42-7fcc-4a88-aa2b-6d6539b34b58</td>\n",
       "      <td>NaN</td>\n",
       "      <td>NaN</td>\n",
       "      <td>NaN</td>\n",
       "      <td>NaN</td>\n",
       "      <td>NaN</td>\n",
       "      <td>NaN</td>\n",
       "      <td>NaN</td>\n",
       "    </tr>\n",
       "    <tr>\n",
       "      <th>4</th>\n",
       "      <td>0002c430-5526-4389-8335-595c918610d3</td>\n",
       "      <td>NaN</td>\n",
       "      <td>NaN</td>\n",
       "      <td>NaN</td>\n",
       "      <td>NaN</td>\n",
       "      <td>NaN</td>\n",
       "      <td>NaN</td>\n",
       "      <td>NaN</td>\n",
       "    </tr>\n",
       "  </tbody>\n",
       "</table>\n",
       "</div>"
      ],
      "text/plain": [
       "                             patient_id Body Height Body Weight  \\\n",
       "0  00004593-87ae-40ac-bfec-7e2dd37b690f         NaN         NaN   \n",
       "1  00005a31-23bc-46dc-9dcd-13337680b90e         NaN         NaN   \n",
       "2  000120e2-63aa-404c-8842-d6ddc96f6dec         NaN         NaN   \n",
       "3  0002bd42-7fcc-4a88-aa2b-6d6539b34b58         NaN         NaN   \n",
       "4  0002c430-5526-4389-8335-595c918610d3         NaN         NaN   \n",
       "\n",
       "  Body Mass Index Diastolic Blood Pressure Systolic Blood Pressure Heart rate  \\\n",
       "0             NaN                      NaN                     NaN        NaN   \n",
       "1             NaN                      NaN                     NaN        NaN   \n",
       "2             NaN                      NaN                     NaN        NaN   \n",
       "3             NaN                      NaN                     NaN        NaN   \n",
       "4             NaN                      NaN                     NaN        NaN   \n",
       "\n",
       "  Respiratory rate  \n",
       "0              NaN  \n",
       "1              NaN  \n",
       "2              NaN  \n",
       "3              NaN  \n",
       "4              NaN  "
      ]
     },
     "execution_count": 60,
     "metadata": {},
     "output_type": "execute_result"
    }
   ],
   "source": [
    "columns=[\"patient_id\",\"Body Height\",\"Body Weight\", \"Body Mass Index\",\"Diastolic Blood Pressure\",\n",
    "         \"Systolic Blood Pressure\",\"Heart rate\",\"Respiratory rate\"]\n",
    "dfm=pd.DataFrame(columns=columns)\n",
    "dfm[\"patient_id\"]=patient_ids\n",
    "dfm.head()"
   ]
  },
  {
   "cell_type": "markdown",
   "metadata": {},
   "source": [
    "## Populate Dataframe"
   ]
  },
  {
   "cell_type": "code",
   "execution_count": 61,
   "metadata": {},
   "outputs": [],
   "source": [
    "query=pd.DataFrame()\n",
    "for column in columns[1:]:\n",
    "    query=pd.concat([query,dfo.query(f\"DESCRIPTION=='{column}'\")])"
   ]
  },
  {
   "cell_type": "code",
   "execution_count": 62,
   "metadata": {},
   "outputs": [
    {
     "ename": "KeyboardInterrupt",
     "evalue": "",
     "output_type": "error",
     "traceback": [
      "\u001b[0;31m---------------------------------------------------------------------------\u001b[0m",
      "\u001b[0;31mKeyboardInterrupt\u001b[0m                         Traceback (most recent call last)",
      "\u001b[0;32m<ipython-input-62-abe375f56e4e>\u001b[0m in \u001b[0;36m<module>\u001b[0;34m\u001b[0m\n\u001b[1;32m      1\u001b[0m \u001b[0;32mfor\u001b[0m \u001b[0mindex_dfo\u001b[0m\u001b[0;34m,\u001b[0m\u001b[0mrow_dfo\u001b[0m \u001b[0;32min\u001b[0m \u001b[0mlist\u001b[0m\u001b[0;34m(\u001b[0m\u001b[0mquery\u001b[0m\u001b[0;34m[\u001b[0m\u001b[0;34m[\u001b[0m\u001b[0;34m\"PATIENT\"\u001b[0m\u001b[0;34m,\u001b[0m\u001b[0;34m\"DESCRIPTION\"\u001b[0m\u001b[0;34m,\u001b[0m\u001b[0;34m\"VALUE\"\u001b[0m\u001b[0;34m]\u001b[0m\u001b[0;34m]\u001b[0m\u001b[0;34m.\u001b[0m\u001b[0miterrows\u001b[0m\u001b[0;34m(\u001b[0m\u001b[0;34m)\u001b[0m\u001b[0;34m)\u001b[0m\u001b[0;34m:\u001b[0m\u001b[0;34m\u001b[0m\u001b[0;34m\u001b[0m\u001b[0m\n\u001b[1;32m      2\u001b[0m     \u001b[0;32mif\u001b[0m \u001b[0mrow_dfo\u001b[0m\u001b[0;34m[\u001b[0m\u001b[0;34m\"DESCRIPTION\"\u001b[0m\u001b[0;34m]\u001b[0m \u001b[0;32min\u001b[0m \u001b[0mcolumns\u001b[0m\u001b[0;34m:\u001b[0m\u001b[0;34m\u001b[0m\u001b[0;34m\u001b[0m\u001b[0m\n\u001b[0;32m----> 3\u001b[0;31m         \u001b[0mdfm\u001b[0m\u001b[0;34m.\u001b[0m\u001b[0mloc\u001b[0m\u001b[0;34m[\u001b[0m\u001b[0mdfm\u001b[0m\u001b[0;34m.\u001b[0m\u001b[0mpatient_id\u001b[0m\u001b[0;34m==\u001b[0m\u001b[0mrow_dfo\u001b[0m\u001b[0;34m[\u001b[0m\u001b[0;34m\"PATIENT\"\u001b[0m\u001b[0;34m]\u001b[0m\u001b[0;34m,\u001b[0m\u001b[0mrow_dfo\u001b[0m\u001b[0;34m[\u001b[0m\u001b[0;34m\"DESCRIPTION\"\u001b[0m\u001b[0;34m]\u001b[0m\u001b[0;34m]\u001b[0m\u001b[0;34m=\u001b[0m \u001b[0mrow_dfo\u001b[0m\u001b[0;34m[\u001b[0m\u001b[0;34m\"VALUE\"\u001b[0m\u001b[0;34m]\u001b[0m\u001b[0;34m\u001b[0m\u001b[0;34m\u001b[0m\u001b[0m\n\u001b[0m",
      "\u001b[0;32m~/anaconda3/lib/python3.7/site-packages/pandas/core/ops/common.py\u001b[0m in \u001b[0;36mnew_method\u001b[0;34m(self, other)\u001b[0m\n\u001b[1;32m     62\u001b[0m         \u001b[0mother\u001b[0m \u001b[0;34m=\u001b[0m \u001b[0mitem_from_zerodim\u001b[0m\u001b[0;34m(\u001b[0m\u001b[0mother\u001b[0m\u001b[0;34m)\u001b[0m\u001b[0;34m\u001b[0m\u001b[0;34m\u001b[0m\u001b[0m\n\u001b[1;32m     63\u001b[0m \u001b[0;34m\u001b[0m\u001b[0m\n\u001b[0;32m---> 64\u001b[0;31m         \u001b[0;32mreturn\u001b[0m \u001b[0mmethod\u001b[0m\u001b[0;34m(\u001b[0m\u001b[0mself\u001b[0m\u001b[0;34m,\u001b[0m \u001b[0mother\u001b[0m\u001b[0;34m)\u001b[0m\u001b[0;34m\u001b[0m\u001b[0;34m\u001b[0m\u001b[0m\n\u001b[0m\u001b[1;32m     65\u001b[0m \u001b[0;34m\u001b[0m\u001b[0m\n\u001b[1;32m     66\u001b[0m     \u001b[0;32mreturn\u001b[0m \u001b[0mnew_method\u001b[0m\u001b[0;34m\u001b[0m\u001b[0;34m\u001b[0m\u001b[0m\n",
      "\u001b[0;32m~/anaconda3/lib/python3.7/site-packages/pandas/core/ops/__init__.py\u001b[0m in \u001b[0;36mwrapper\u001b[0;34m(self, other)\u001b[0m\n\u001b[1;32m    524\u001b[0m         \u001b[0mrvalues\u001b[0m \u001b[0;34m=\u001b[0m \u001b[0mextract_array\u001b[0m\u001b[0;34m(\u001b[0m\u001b[0mother\u001b[0m\u001b[0;34m,\u001b[0m \u001b[0mextract_numpy\u001b[0m\u001b[0;34m=\u001b[0m\u001b[0;32mTrue\u001b[0m\u001b[0;34m)\u001b[0m\u001b[0;34m\u001b[0m\u001b[0;34m\u001b[0m\u001b[0m\n\u001b[1;32m    525\u001b[0m \u001b[0;34m\u001b[0m\u001b[0m\n\u001b[0;32m--> 526\u001b[0;31m         \u001b[0mres_values\u001b[0m \u001b[0;34m=\u001b[0m \u001b[0mcomparison_op\u001b[0m\u001b[0;34m(\u001b[0m\u001b[0mlvalues\u001b[0m\u001b[0;34m,\u001b[0m \u001b[0mrvalues\u001b[0m\u001b[0;34m,\u001b[0m \u001b[0mop\u001b[0m\u001b[0;34m)\u001b[0m\u001b[0;34m\u001b[0m\u001b[0;34m\u001b[0m\u001b[0m\n\u001b[0m\u001b[1;32m    527\u001b[0m \u001b[0;34m\u001b[0m\u001b[0m\n\u001b[1;32m    528\u001b[0m         \u001b[0;32mreturn\u001b[0m \u001b[0m_construct_result\u001b[0m\u001b[0;34m(\u001b[0m\u001b[0mself\u001b[0m\u001b[0;34m,\u001b[0m \u001b[0mres_values\u001b[0m\u001b[0;34m,\u001b[0m \u001b[0mindex\u001b[0m\u001b[0;34m=\u001b[0m\u001b[0mself\u001b[0m\u001b[0;34m.\u001b[0m\u001b[0mindex\u001b[0m\u001b[0;34m,\u001b[0m \u001b[0mname\u001b[0m\u001b[0;34m=\u001b[0m\u001b[0mres_name\u001b[0m\u001b[0;34m)\u001b[0m\u001b[0;34m\u001b[0m\u001b[0;34m\u001b[0m\u001b[0m\n",
      "\u001b[0;32m~/anaconda3/lib/python3.7/site-packages/pandas/core/ops/array_ops.py\u001b[0m in \u001b[0;36mcomparison_op\u001b[0;34m(left, right, op)\u001b[0m\n\u001b[1;32m    245\u001b[0m \u001b[0;34m\u001b[0m\u001b[0m\n\u001b[1;32m    246\u001b[0m     \u001b[0;32melif\u001b[0m \u001b[0mis_object_dtype\u001b[0m\u001b[0;34m(\u001b[0m\u001b[0mlvalues\u001b[0m\u001b[0;34m.\u001b[0m\u001b[0mdtype\u001b[0m\u001b[0;34m)\u001b[0m\u001b[0;34m:\u001b[0m\u001b[0;34m\u001b[0m\u001b[0;34m\u001b[0m\u001b[0m\n\u001b[0;32m--> 247\u001b[0;31m         \u001b[0mres_values\u001b[0m \u001b[0;34m=\u001b[0m \u001b[0mcomp_method_OBJECT_ARRAY\u001b[0m\u001b[0;34m(\u001b[0m\u001b[0mop\u001b[0m\u001b[0;34m,\u001b[0m \u001b[0mlvalues\u001b[0m\u001b[0;34m,\u001b[0m \u001b[0mrvalues\u001b[0m\u001b[0;34m)\u001b[0m\u001b[0;34m\u001b[0m\u001b[0;34m\u001b[0m\u001b[0m\n\u001b[0m\u001b[1;32m    248\u001b[0m \u001b[0;34m\u001b[0m\u001b[0m\n\u001b[1;32m    249\u001b[0m     \u001b[0;32melse\u001b[0m\u001b[0;34m:\u001b[0m\u001b[0;34m\u001b[0m\u001b[0;34m\u001b[0m\u001b[0m\n",
      "\u001b[0;32m~/anaconda3/lib/python3.7/site-packages/pandas/core/ops/array_ops.py\u001b[0m in \u001b[0;36mcomp_method_OBJECT_ARRAY\u001b[0;34m(op, x, y)\u001b[0m\n\u001b[1;32m     55\u001b[0m         \u001b[0mresult\u001b[0m \u001b[0;34m=\u001b[0m \u001b[0mlibops\u001b[0m\u001b[0;34m.\u001b[0m\u001b[0mvec_compare\u001b[0m\u001b[0;34m(\u001b[0m\u001b[0mx\u001b[0m\u001b[0;34m.\u001b[0m\u001b[0mravel\u001b[0m\u001b[0;34m(\u001b[0m\u001b[0;34m)\u001b[0m\u001b[0;34m,\u001b[0m \u001b[0my\u001b[0m\u001b[0;34m,\u001b[0m \u001b[0mop\u001b[0m\u001b[0;34m)\u001b[0m\u001b[0;34m\u001b[0m\u001b[0;34m\u001b[0m\u001b[0m\n\u001b[1;32m     56\u001b[0m     \u001b[0;32melse\u001b[0m\u001b[0;34m:\u001b[0m\u001b[0;34m\u001b[0m\u001b[0;34m\u001b[0m\u001b[0m\n\u001b[0;32m---> 57\u001b[0;31m         \u001b[0mresult\u001b[0m \u001b[0;34m=\u001b[0m \u001b[0mlibops\u001b[0m\u001b[0;34m.\u001b[0m\u001b[0mscalar_compare\u001b[0m\u001b[0;34m(\u001b[0m\u001b[0mx\u001b[0m\u001b[0;34m.\u001b[0m\u001b[0mravel\u001b[0m\u001b[0;34m(\u001b[0m\u001b[0;34m)\u001b[0m\u001b[0;34m,\u001b[0m \u001b[0my\u001b[0m\u001b[0;34m,\u001b[0m \u001b[0mop\u001b[0m\u001b[0;34m)\u001b[0m\u001b[0;34m\u001b[0m\u001b[0;34m\u001b[0m\u001b[0m\n\u001b[0m\u001b[1;32m     58\u001b[0m     \u001b[0;32mreturn\u001b[0m \u001b[0mresult\u001b[0m\u001b[0;34m.\u001b[0m\u001b[0mreshape\u001b[0m\u001b[0;34m(\u001b[0m\u001b[0mx\u001b[0m\u001b[0;34m.\u001b[0m\u001b[0mshape\u001b[0m\u001b[0;34m)\u001b[0m\u001b[0;34m\u001b[0m\u001b[0;34m\u001b[0m\u001b[0m\n\u001b[1;32m     59\u001b[0m \u001b[0;34m\u001b[0m\u001b[0m\n",
      "\u001b[0;31mKeyboardInterrupt\u001b[0m: "
     ]
    }
   ],
   "source": [
    "for index_dfo,row_dfo in list(query[[\"PATIENT\",\"DESCRIPTION\",\"VALUE\"]].iterrows()):\n",
    "    if row_dfo[\"DESCRIPTION\"] in columns:\n",
    "        dfm.loc[dfm.patient_id==row_dfo[\"PATIENT\"],row_dfo[\"DESCRIPTION\"]]= row_dfo[\"VALUE\"]"
   ]
  },
  {
   "cell_type": "code",
   "execution_count": null,
   "metadata": {
    "scrolled": false
   },
   "outputs": [],
   "source": [
    "dfm.head()"
   ]
  },
  {
   "cell_type": "markdown",
   "metadata": {},
   "source": [
    "# Merge Patient/observation Dataframe"
   ]
  },
  {
   "cell_type": "code",
   "execution_count": 9,
   "metadata": {
    "scrolled": true
   },
   "outputs": [
    {
     "data": {
      "text/html": [
       "<div>\n",
       "<style scoped>\n",
       "    .dataframe tbody tr th:only-of-type {\n",
       "        vertical-align: middle;\n",
       "    }\n",
       "\n",
       "    .dataframe tbody tr th {\n",
       "        vertical-align: top;\n",
       "    }\n",
       "\n",
       "    .dataframe thead th {\n",
       "        text-align: right;\n",
       "    }\n",
       "</style>\n",
       "<table border=\"1\" class=\"dataframe\">\n",
       "  <thead>\n",
       "    <tr style=\"text-align: right;\">\n",
       "      <th></th>\n",
       "      <th>BIRTHDATE</th>\n",
       "      <th>MARITAL</th>\n",
       "      <th>RACE</th>\n",
       "      <th>ETHNICITY</th>\n",
       "      <th>GENDER</th>\n",
       "    </tr>\n",
       "  </thead>\n",
       "  <tbody>\n",
       "    <tr>\n",
       "      <th>0</th>\n",
       "      <td>19960726.0</td>\n",
       "      <td>0</td>\n",
       "      <td>white</td>\n",
       "      <td>irish</td>\n",
       "      <td>0</td>\n",
       "    </tr>\n",
       "    <tr>\n",
       "      <th>1</th>\n",
       "      <td>19960924.0</td>\n",
       "      <td>0</td>\n",
       "      <td>white</td>\n",
       "      <td>french_canadian</td>\n",
       "      <td>0</td>\n",
       "    </tr>\n",
       "    <tr>\n",
       "      <th>2</th>\n",
       "      <td>19440901.0</td>\n",
       "      <td>1</td>\n",
       "      <td>white</td>\n",
       "      <td>irish</td>\n",
       "      <td>1</td>\n",
       "    </tr>\n",
       "    <tr>\n",
       "      <th>3</th>\n",
       "      <td>19640514.0</td>\n",
       "      <td>1</td>\n",
       "      <td>white</td>\n",
       "      <td>french</td>\n",
       "      <td>0</td>\n",
       "    </tr>\n",
       "    <tr>\n",
       "      <th>4</th>\n",
       "      <td>19460305.0</td>\n",
       "      <td>0</td>\n",
       "      <td>white</td>\n",
       "      <td>irish</td>\n",
       "      <td>0</td>\n",
       "    </tr>\n",
       "  </tbody>\n",
       "</table>\n",
       "</div>"
      ],
      "text/plain": [
       "    BIRTHDATE MARITAL   RACE        ETHNICITY GENDER\n",
       "0  19960726.0       0  white            irish      0\n",
       "1  19960924.0       0  white  french_canadian      0\n",
       "2  19440901.0       1  white            irish      1\n",
       "3  19640514.0       1  white           french      0\n",
       "4  19460305.0       0  white            irish      0"
      ]
     },
     "execution_count": 9,
     "metadata": {},
     "output_type": "execute_result"
    }
   ],
   "source": [
    "data.head()"
   ]
  },
  {
   "cell_type": "code",
   "execution_count": 11,
   "metadata": {
    "scrolled": false
   },
   "outputs": [
    {
     "data": {
      "text/html": [
       "<div>\n",
       "<style scoped>\n",
       "    .dataframe tbody tr th:only-of-type {\n",
       "        vertical-align: middle;\n",
       "    }\n",
       "\n",
       "    .dataframe tbody tr th {\n",
       "        vertical-align: top;\n",
       "    }\n",
       "\n",
       "    .dataframe thead th {\n",
       "        text-align: right;\n",
       "    }\n",
       "</style>\n",
       "<table border=\"1\" class=\"dataframe\">\n",
       "  <thead>\n",
       "    <tr style=\"text-align: right;\">\n",
       "      <th></th>\n",
       "      <th>BIRTHDATE</th>\n",
       "      <th>MARITAL</th>\n",
       "      <th>RACE</th>\n",
       "      <th>ETHNICITY</th>\n",
       "      <th>GENDER</th>\n",
       "      <th>patient_id</th>\n",
       "      <th>Body Height</th>\n",
       "      <th>Body Weight</th>\n",
       "      <th>Body Mass Index</th>\n",
       "      <th>Diastolic Blood Pressure</th>\n",
       "      <th>Systolic Blood Pressure</th>\n",
       "      <th>Heart rate</th>\n",
       "      <th>Respiratory rate</th>\n",
       "    </tr>\n",
       "  </thead>\n",
       "  <tbody>\n",
       "    <tr>\n",
       "      <th>0</th>\n",
       "      <td>19960726.0</td>\n",
       "      <td>0</td>\n",
       "      <td>white</td>\n",
       "      <td>irish</td>\n",
       "      <td>0</td>\n",
       "      <td>00004593-87ae-40ac-bfec-7e2dd37b690f</td>\n",
       "      <td>NaN</td>\n",
       "      <td>NaN</td>\n",
       "      <td>NaN</td>\n",
       "      <td>NaN</td>\n",
       "      <td>NaN</td>\n",
       "      <td>NaN</td>\n",
       "      <td>NaN</td>\n",
       "    </tr>\n",
       "    <tr>\n",
       "      <th>1</th>\n",
       "      <td>19960924.0</td>\n",
       "      <td>0</td>\n",
       "      <td>white</td>\n",
       "      <td>french_canadian</td>\n",
       "      <td>0</td>\n",
       "      <td>00005a31-23bc-46dc-9dcd-13337680b90e</td>\n",
       "      <td>NaN</td>\n",
       "      <td>NaN</td>\n",
       "      <td>NaN</td>\n",
       "      <td>NaN</td>\n",
       "      <td>NaN</td>\n",
       "      <td>NaN</td>\n",
       "      <td>NaN</td>\n",
       "    </tr>\n",
       "    <tr>\n",
       "      <th>2</th>\n",
       "      <td>19440901.0</td>\n",
       "      <td>1</td>\n",
       "      <td>white</td>\n",
       "      <td>irish</td>\n",
       "      <td>1</td>\n",
       "      <td>000120e2-63aa-404c-8842-d6ddc96f6dec</td>\n",
       "      <td>NaN</td>\n",
       "      <td>NaN</td>\n",
       "      <td>NaN</td>\n",
       "      <td>NaN</td>\n",
       "      <td>NaN</td>\n",
       "      <td>NaN</td>\n",
       "      <td>NaN</td>\n",
       "    </tr>\n",
       "    <tr>\n",
       "      <th>3</th>\n",
       "      <td>19640514.0</td>\n",
       "      <td>1</td>\n",
       "      <td>white</td>\n",
       "      <td>french</td>\n",
       "      <td>0</td>\n",
       "      <td>000177c6-f76b-432b-9493-5a88bc9fb6bd</td>\n",
       "      <td>NaN</td>\n",
       "      <td>NaN</td>\n",
       "      <td>NaN</td>\n",
       "      <td>NaN</td>\n",
       "      <td>NaN</td>\n",
       "      <td>NaN</td>\n",
       "      <td>NaN</td>\n",
       "    </tr>\n",
       "    <tr>\n",
       "      <th>4</th>\n",
       "      <td>19460305.0</td>\n",
       "      <td>0</td>\n",
       "      <td>white</td>\n",
       "      <td>irish</td>\n",
       "      <td>0</td>\n",
       "      <td>0002bd42-7fcc-4a88-aa2b-6d6539b34b58</td>\n",
       "      <td>NaN</td>\n",
       "      <td>NaN</td>\n",
       "      <td>NaN</td>\n",
       "      <td>NaN</td>\n",
       "      <td>NaN</td>\n",
       "      <td>NaN</td>\n",
       "      <td>NaN</td>\n",
       "    </tr>\n",
       "  </tbody>\n",
       "</table>\n",
       "</div>"
      ],
      "text/plain": [
       "    BIRTHDATE MARITAL   RACE        ETHNICITY GENDER  \\\n",
       "0  19960726.0       0  white            irish      0   \n",
       "1  19960924.0       0  white  french_canadian      0   \n",
       "2  19440901.0       1  white            irish      1   \n",
       "3  19640514.0       1  white           french      0   \n",
       "4  19460305.0       0  white            irish      0   \n",
       "\n",
       "                             patient_id Body Height Body Weight  \\\n",
       "0  00004593-87ae-40ac-bfec-7e2dd37b690f         NaN         NaN   \n",
       "1  00005a31-23bc-46dc-9dcd-13337680b90e         NaN         NaN   \n",
       "2  000120e2-63aa-404c-8842-d6ddc96f6dec         NaN         NaN   \n",
       "3  000177c6-f76b-432b-9493-5a88bc9fb6bd         NaN         NaN   \n",
       "4  0002bd42-7fcc-4a88-aa2b-6d6539b34b58         NaN         NaN   \n",
       "\n",
       "  Body Mass Index Diastolic Blood Pressure Systolic Blood Pressure Heart rate  \\\n",
       "0             NaN                      NaN                     NaN        NaN   \n",
       "1             NaN                      NaN                     NaN        NaN   \n",
       "2             NaN                      NaN                     NaN        NaN   \n",
       "3             NaN                      NaN                     NaN        NaN   \n",
       "4             NaN                      NaN                     NaN        NaN   \n",
       "\n",
       "  Respiratory rate  \n",
       "0              NaN  \n",
       "1              NaN  \n",
       "2              NaN  \n",
       "3              NaN  \n",
       "4              NaN  "
      ]
     },
     "execution_count": 11,
     "metadata": {},
     "output_type": "execute_result"
    }
   ],
   "source": [
    "df=pd.concat([data,dfm],axis=1)\n",
    "df.to_csv()\n",
    "df.head()"
   ]
  },
  {
   "cell_type": "code",
   "execution_count": null,
   "metadata": {
    "scrolled": true
   },
   "outputs": [],
   "source": [
    "dfcopy=df.copy()\n",
    "dfcopy=dfcopy.dropna()\n",
    "dfcopy=dfcopy.sample(frac=1, random_state=7896)\n",
    "dfcopy.to_csv()\n",
    "dfcopy.head()"
   ]
  },
  {
   "cell_type": "markdown",
   "metadata": {},
   "source": [
    "## Encode Categories"
   ]
  },
  {
   "cell_type": "code",
   "execution_count": null,
   "metadata": {},
   "outputs": [],
   "source": [
    "enc = preprocessing.OrdinalEncoder()\n",
    "X=df.iloc[:,2:4].values\n",
    "enc.fit(X)"
   ]
  },
  {
   "cell_type": "code",
   "execution_count": null,
   "metadata": {},
   "outputs": [],
   "source": [
    "X=enc.transform(X)\n",
    "cols=['RACE','ETHNICITY']\n",
    "df[cols]=X"
   ]
  },
  {
   "cell_type": "code",
   "execution_count": null,
   "metadata": {
    "scrolled": false
   },
   "outputs": [],
   "source": [
    "df=df.dropna()\n",
    "df=df.sample(frac=1, random_state=7896)\n",
    "df.head()"
   ]
  },
  {
   "cell_type": "markdown",
   "metadata": {},
   "source": [
    "# Hierachical Clustering"
   ]
  },
  {
   "cell_type": "markdown",
   "metadata": {},
   "source": [
    "## Dendrogram"
   ]
  },
  {
   "cell_type": "code",
   "execution_count": null,
   "metadata": {
    "scrolled": false
   },
   "outputs": [],
   "source": [
    "plt.figure(figsize=(10, 7))\n",
    "plt.title(\"Patients Dendrograms\")\n",
    "dend = shc.dendrogram(shc.linkage(df, method='ward'))"
   ]
  },
  {
   "cell_type": "markdown",
   "metadata": {},
   "source": [
    "## Agglomerative Clustering"
   ]
  },
  {
   "cell_type": "code",
   "execution_count": null,
   "metadata": {
    "scrolled": true
   },
   "outputs": [],
   "source": [
    "cluster= AgglomerativeClustering(n_clusters=3, affinity='euclidean',linkage='ward')\n",
    "cluster.fit_predict(df)\n",
    "print(cluster.labels_)"
   ]
  },
  {
   "cell_type": "markdown",
   "metadata": {},
   "source": [
    "## Mean Shift"
   ]
  },
  {
   "cell_type": "code",
   "execution_count": null,
   "metadata": {},
   "outputs": [],
   "source": [
    "clf=MeanShift()\n",
    "clf.fit(df)\n",
    "labels=clf.labels_\n",
    "cluster_centers=clf.cluster_centers_\n",
    "dfcopy['cluster_group']=np.nan\n",
    "df['cluster_group']=np.nan"
   ]
  },
  {
   "cell_type": "code",
   "execution_count": null,
   "metadata": {},
   "outputs": [],
   "source": [
    "for i in range(len(df)):\n",
    "    dfcopy['cluster_group'].iloc[i]=labels[i]\n",
    "    df['cluster_group'].iloc[i]=labels[i]\n",
    "n_clusters_ =len(np.unique(labels))\n",
    "print(n_clusters_)"
   ]
  },
  {
   "cell_type": "code",
   "execution_count": null,
   "metadata": {
    "scrolled": false
   },
   "outputs": [],
   "source": [
    "dfcopy.head()"
   ]
  },
  {
   "cell_type": "markdown",
   "metadata": {},
   "source": [
    "### Analyzing Groups"
   ]
  },
  {
   "cell_type": "code",
   "execution_count": null,
   "metadata": {},
   "outputs": [],
   "source": [
    "temp0=dfcopy[dfcopy['cluster_group']==0]\n",
    "len(temp0)"
   ]
  },
  {
   "cell_type": "code",
   "execution_count": null,
   "metadata": {},
   "outputs": [],
   "source": [
    "temp1=dfcopy[dfcopy['cluster_group']==1]\n",
    "len(temp1)"
   ]
  },
  {
   "cell_type": "code",
   "execution_count": null,
   "metadata": {},
   "outputs": [],
   "source": [
    "temp2=dfcopy[dfcopy['cluster_group']==2]\n",
    "len(temp2)"
   ]
  },
  {
   "cell_type": "code",
   "execution_count": null,
   "metadata": {
    "scrolled": false
   },
   "outputs": [],
   "source": [
    "temp3=dfcopy[dfcopy['cluster_group']==3]\n",
    "len(temp3)"
   ]
  },
  {
   "cell_type": "markdown",
   "metadata": {},
   "source": [
    "#### Looking at Outlier Group"
   ]
  },
  {
   "cell_type": "code",
   "execution_count": null,
   "metadata": {
    "scrolled": true
   },
   "outputs": [],
   "source": [
    "temp3.head(7)"
   ]
  },
  {
   "cell_type": "markdown",
   "metadata": {},
   "source": [
    "# PCA for Data Visualization"
   ]
  },
  {
   "cell_type": "code",
   "execution_count": null,
   "metadata": {
    "scrolled": true
   },
   "outputs": [],
   "source": [
    "pca=PCA(n_components=3)\n",
    "principalComponents=pca.fit_transform(df)\n",
    "principalDF = pd.DataFrame(data=principalComponents, columns =['Principal Component 1', 'Principal Component 2','Principal Component 3'])\n",
    "principalDF.head()"
   ]
  },
  {
   "cell_type": "code",
   "execution_count": null,
   "metadata": {
    "scrolled": false
   },
   "outputs": [],
   "source": [
    "finalDF=pd.concat([principalDF, df[['cluster_group']]],axis=1)\n",
    "finalDF.head()"
   ]
  },
  {
   "cell_type": "markdown",
   "metadata": {},
   "source": [
    "### 2D"
   ]
  },
  {
   "cell_type": "code",
   "execution_count": null,
   "metadata": {
    "scrolled": true
   },
   "outputs": [],
   "source": [
    "fig = plt.figure(figsize = (8,8))\n",
    "ax = fig.add_subplot(1,1,1) \n",
    "ax.set_xlabel('Principal Component 1', fontsize = 15)\n",
    "ax.set_ylabel('Principal Component 2', fontsize = 15)\n",
    "ax.set_title('2 Component PCA', fontsize = 20)\n",
    "\n",
    "\n",
    "targets = [0,1,2,3]\n",
    "colors = ['r', 'g', 'b','y']\n",
    "for target, color in zip(targets,colors):\n",
    "    indicesToKeep = finalDF['cluster_group'] == target\n",
    "    ax.scatter(finalDF.loc[indicesToKeep, 'Principal Component 1']\n",
    "               , finalDF.loc[indicesToKeep, 'Principal Component 2']\n",
    "               , c = color\n",
    "               , s = 50)\n",
    "ax.legend(targets)\n",
    "ax.grid()"
   ]
  },
  {
   "cell_type": "markdown",
   "metadata": {},
   "source": [
    "### 3D"
   ]
  },
  {
   "cell_type": "code",
   "execution_count": null,
   "metadata": {
    "scrolled": true
   },
   "outputs": [],
   "source": [
    "fig = plt.figure(figsize = (15,15))\n",
    "ax = fig.add_subplot(111,projection='3d') \n",
    "ax.set_xlabel('Principal Component 1', fontsize = 15)\n",
    "ax.set_ylabel('Principal Component 2', fontsize = 15)\n",
    "ax.set_zlabel('Principal Component 3', fontsize = 15)\n",
    "ax.set_title('3 Component PCA', fontsize = 20)\n",
    "\n",
    "\n",
    "targets = [0,1,2,3]\n",
    "colors = ['r', 'g', 'b','y']\n",
    "for target, color in zip(targets,colors):\n",
    "    indicesToKeep = finalDF['cluster_group'] == target\n",
    "    ax.scatter(finalDF.loc[indicesToKeep, 'Principal Component 1']\n",
    "               , finalDF.loc[indicesToKeep, 'Principal Component 2']\n",
    "               , finalDF.loc[indicesToKeep, 'Principal Component 3']\n",
    "               , c = color\n",
    "               , s = 50)\n",
    "ax.legend(targets)\n",
    "ax.grid()"
   ]
  }
 ],
 "metadata": {
  "kernelspec": {
   "display_name": "Python 3",
   "language": "python",
   "name": "python3"
  },
  "language_info": {
   "codemirror_mode": {
    "name": "ipython",
    "version": 3
   },
   "file_extension": ".py",
   "mimetype": "text/x-python",
   "name": "python",
   "nbconvert_exporter": "python",
   "pygments_lexer": "ipython3",
   "version": "3.7.6"
  }
 },
 "nbformat": 4,
 "nbformat_minor": 4
}
